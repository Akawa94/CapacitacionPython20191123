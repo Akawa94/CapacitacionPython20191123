{
 "cells": [
  {
   "cell_type": "markdown",
   "metadata": {
    "lang": "en"
   },
   "source": [
    "More Functions\n",
    "===\n",
    "Earlier we learned the most bare-boned versions of functions. In this section we will learn more general concepts about functions, such as how to use functions to return values, and how to pass different kinds of data structures between functions."
   ]
  },
  {
   "cell_type": "markdown",
   "metadata": {
    "lang": "es"
   },
   "source": [
    "Valores de argumento por defecto\n",
    "===\n",
    "Cuando introdujimos funciones por primera vez, comenzamos con este ejemplo:"
   ]
  },
  {
   "cell_type": "code",
   "execution_count": 1,
   "metadata": {},
   "outputs": [
    {
     "name": "stdout",
     "output_type": "stream",
     "text": [
      "\n",
      "You are doing good work, Adriana!\n",
      "Thank you very much for your efforts on this project.\n",
      "\n",
      "You are doing good work, Carlos!\n",
      "Thank you very much for your efforts on this project.\n",
      "\n",
      "You are doing good work, María!\n",
      "Thank you very much for your efforts on this project.\n"
     ]
    }
   ],
   "source": [
    "def thank_you(name):\n",
    "    # This function prints a two-line personalized thank you message.\n",
    "    print(\"\\nYou are doing good work, %s!\" % name)\n",
    "    print(\"Thank you very much for your efforts on this project.\")\n",
    "    \n",
    "thank_you('Adriana')\n",
    "thank_you('Carlos')\n",
    "thank_you('María')"
   ]
  },
  {
   "cell_type": "markdown",
   "metadata": {
    "lang": "es"
   },
   "source": [
    "Esta función funciona bien, pero falla si no pasas un valor:"
   ]
  },
  {
   "cell_type": "code",
   "execution_count": 2,
   "metadata": {},
   "outputs": [
    {
     "name": "stdout",
     "output_type": "stream",
     "text": [
      "\n",
      "You are doing good work, Adriana!\n",
      "Thank you very much for your efforts on this project.\n",
      "\n",
      "You are doing good work, Carlos!\n",
      "Thank you very much for your efforts on this project.\n",
      "\n",
      "You are doing good work, María!\n",
      "Thank you very much for your efforts on this project.\n"
     ]
    },
    {
     "ename": "TypeError",
     "evalue": "thank_you() missing 1 required positional argument: 'name'",
     "output_type": "error",
     "traceback": [
      "\u001b[0;31m---------------------------------------------------------------------------\u001b[0m",
      "\u001b[0;31mTypeError\u001b[0m                                 Traceback (most recent call last)",
      "\u001b[0;32m<ipython-input-2-5f9d59268576>\u001b[0m in \u001b[0;36m<module>\u001b[0;34m\u001b[0m\n\u001b[1;32m      7\u001b[0m \u001b[0mthank_you\u001b[0m\u001b[0;34m(\u001b[0m\u001b[0;34m'Carlos'\u001b[0m\u001b[0;34m)\u001b[0m\u001b[0;34m\u001b[0m\u001b[0m\n\u001b[1;32m      8\u001b[0m \u001b[0mthank_you\u001b[0m\u001b[0;34m(\u001b[0m\u001b[0;34m'María'\u001b[0m\u001b[0;34m)\u001b[0m\u001b[0;34m\u001b[0m\u001b[0m\n\u001b[0;32m----> 9\u001b[0;31m \u001b[0mthank_you\u001b[0m\u001b[0;34m(\u001b[0m\u001b[0;34m)\u001b[0m\u001b[0;34m\u001b[0m\u001b[0m\n\u001b[0m",
      "\u001b[0;31mTypeError\u001b[0m: thank_you() missing 1 required positional argument: 'name'"
     ]
    }
   ],
   "source": [
    "def thank_you(name):\n",
    "    # This function prints a two-line personalized thank you message.\n",
    "    print(\"\\nYou are doing good work, %s!\" % name)\n",
    "    print(\"Thank you very much for your efforts on this project.\")\n",
    "    \n",
    "thank_you('Adriana')\n",
    "thank_you('Carlos')\n",
    "thank_you('María')\n",
    "thank_you()"
   ]
  },
  {
   "cell_type": "markdown",
   "metadata": {
    "lang": "en"
   },
   "source": [
    "That makes sense; the function needs to have a name in order to do its work, so without a name it is stuck.\n",
    "\n",
    "If you want your function to do something by default, even if no information is passed to it, you can do so by giving your arguments default values. You do this by specifying the default values when you define the function:"
   ]
  },
  {
   "cell_type": "markdown",
   "metadata": {
    "lang": "es"
   },
   "source": [
    "Eso tiene sentido; la función debe tener un nombre para poder realizar su trabajo, por lo que sin un nombre se bloquea.\n",
    "\n",
    "Si deseas que tu función haga algo de manera predeterminada, incluso si no se le pasa información, puedes hacerlo dando valores predeterminados a sus argumentos. Para ello, especifique los valores predeterminados cuando defina la función:"
   ]
  },
  {
   "cell_type": "code",
   "execution_count": 3,
   "metadata": {},
   "outputs": [
    {
     "name": "stdout",
     "output_type": "stream",
     "text": [
      "\n",
      "You are doing good work, Adriana!\n",
      "Thank you very much for your efforts on this project.\n",
      "\n",
      "You are doing good work, Argenis!\n",
      "Thank you very much for your efforts on this project.\n",
      "\n",
      "You are doing good work, Lili!\n",
      "Thank you very much for your efforts on this project.\n",
      "\n",
      "You are doing good work, everyone!\n",
      "Thank you very much for your efforts on this project.\n"
     ]
    }
   ],
   "source": [
    "def thank_you(name='everyone'):\n",
    "    # This function prints a two-line personalized thank you message.\n",
    "    #  If no name is passed in, it prints a general thank you message\n",
    "    #  to everyone.\n",
    "    print(\"\\nYou are doing good work, %s!\" % name)\n",
    "    print(\"Thank you very much for your efforts on this project.\")\n",
    "    \n",
    "thank_you('Adriana')\n",
    "thank_you('Argenis')\n",
    "thank_you('Lili')\n",
    "thank_you()"
   ]
  },
  {
   "cell_type": "markdown",
   "metadata": {},
   "source": [
    "This is particularly useful when you have a number of arguments in your function, and some of those arguments almost always have the same value. This allows people who use the function to only specify the values that are unique to their use of the function."
   ]
  },
  {
   "cell_type": "markdown",
   "metadata": {
    "lang": "en"
   },
   "source": [
    "<a id=\"Exercises-default\"></a>\n",
    "Exercises\n",
    "---\n",
    "#### Games\n",
    "- Write a function that accepts the name of a game and prints a statement such as, \"I like playing chess!\"\n",
    "- Give the argument a default value, such as `chess`.\n",
    "- Call your function at least three times. Make sure at least one of the calls includes an argument, and at least one call includes no arguments.\n",
    "\n",
    "#### Favorite Movie\n",
    "- Write a function that accepts the name of a movie, and prints a statement such as, \"My favorite movie is The Princess Bride.\"\n",
    "- Give the argument a default value, such as `The Princess Bride`.\n",
    "- Call your function at least three times. Make sure at least one of the calls includes an argument, and at least one call includes no arguments."
   ]
  },
  {
   "cell_type": "markdown",
   "metadata": {
    "lang": "es"
   },
   "source": [
    "Ejercicios\n",
    "---\n",
    "#### Juegos\n",
    "- Escribe una función que acepte el nombre de un juego e imprima una declaración como, \"¡Me gusta jugar al ajedrez!\"\n",
    "- Dale al argumento un valor predeterminado, como `ajedrez`.\n",
    "- Llama a su función al menos tres veces. Asegúrate de que al menos una de las llamadas incluya un argumento, y al menos una llamada no incluya argumentos.\n",
    "\n",
    "#### Película favorita\n",
    "- Escribe una función que acepte el nombre de una película e imprima una declaración como, \"Mi película favorita es Terminator\".\n",
    "- Dale al argumento un valor predeterminado, como 'Terminator'.\n",
    "- Llama a su función al menos tres veces. Asegúrate de que al menos una de las llamadas incluya un argumento, y al menos una llamada no incluya argumentos."
   ]
  },
  {
   "cell_type": "code",
   "execution_count": 4,
   "metadata": {},
   "outputs": [
    {
     "name": "stdout",
     "output_type": "stream",
     "text": [
      "Me gusta el ajedrez\n",
      "Me gusta el ludo\n",
      "Me gusta el uno\n"
     ]
    }
   ],
   "source": [
    "def juegos(juego=\"uno\"):\n",
    "    print(\"Me gusta el {}\".format(juego))\n",
    "    \n",
    "juegos(\"ajedrez\")\n",
    "juegos(\"ludo\")\n",
    "juegos()"
   ]
  },
  {
   "cell_type": "code",
   "execution_count": 5,
   "metadata": {},
   "outputs": [
    {
     "name": "stdout",
     "output_type": "stream",
     "text": [
      "Me encanta la película Terminator\n",
      "Me encanta la película Avengers\n",
      "Me encanta la película Titanic\n"
     ]
    }
   ],
   "source": [
    "def peliculas(pelicula=\"Titanic\"):\n",
    "    print(\"Me encanta la película {}\".format(pelicula))\n",
    "    \n",
    "peliculas(\"Terminator\")\n",
    "peliculas(\"Avengers\")\n",
    "peliculas()"
   ]
  },
  {
   "cell_type": "markdown",
   "metadata": {
    "lang": "es"
   },
   "source": [
    "Argumentos posicionales\n",
    "===\n",
    "Gran parte de lo que tendrás que aprender sobre el uso de funciones implica cómo pasar valores de su declaración de llamada a la función en sí. El ejemplo que acabamos de ver es bastante simple, ya que la función solo necesitaba un argumento para hacer su trabajo. Echemos un vistazo a una función que requiere dos argumentos para hacer su trabajo.\n",
    "\n",
    "Hagamos una función simple que tome tres argumentos. Hagamos una función que tome el nombre y apellido de una persona, y luego imprima todo lo que sabe sobre la persona.\n",
    "\n",
    "Aquí hay una implementación simple de esta función:"
   ]
  },
  {
   "cell_type": "code",
   "execution_count": 6,
   "metadata": {},
   "outputs": [
    {
     "name": "stdout",
     "output_type": "stream",
     "text": [
      "First name: Brian\n",
      "Last name: Kernighan\n",
      "Age: 71\n",
      "\n",
      "First name: Ken\n",
      "Last name: Thompson\n",
      "Age: 70\n",
      "\n",
      "First name: Adele\n",
      "Last name: Goldberg\n",
      "Age: 68\n",
      "\n"
     ]
    }
   ],
   "source": [
    "def describe_person(first_name, last_name, age):\n",
    "    # This function takes in a person's first and last name,\n",
    "    #  and their age.\n",
    "    # It then prints this information out in a simple format.\n",
    "    print(\"First name: %s\" % first_name.title())\n",
    "    print(\"Last name: %s\" % last_name.title())\n",
    "    print(\"Age: %d\\n\" % age)\n",
    "\n",
    "describe_person('brian', 'kernighan', 71)\n",
    "describe_person('ken', 'thompson', 70)\n",
    "describe_person('adele', 'goldberg', 68)"
   ]
  },
  {
   "cell_type": "markdown",
   "metadata": {
    "lang": "es"
   },
   "source": [
    "Los argumentos en esta función son `first_name`, `last_name` y `age`. Estos se denominan *argumentos posicionales* porque Python sabe qué valor asignar a cada uno por el orden en el que asigna los valores de la función. En la linea que llama\n",
    "\n",
    "    describe_person('brian', 'kernighan', 71)\n",
    "\n",
    "enviamos los valores *brian*, *kernighan* y *71* a la función. Python compara el primer valor *brian* con el primer argumento `first_name`. Coincide con el segundo valor *kernighan* con el segundo argumento `last_name`. Finalmente, compara el tercer valor *71* con el tercer argumento `age`.\n",
    "\n",
    "Esto es bastante sencillo, pero significa que debemos asegurarnos de obtener los argumentos en el orden correcto. Si arruinamos el pedido, obtenemos resultados sin sentido o un error:"
   ]
  },
  {
   "cell_type": "code",
   "execution_count": 7,
   "metadata": {},
   "outputs": [],
   "source": [
    "describe_person?"
   ]
  },
  {
   "cell_type": "code",
   "execution_count": 8,
   "metadata": {},
   "outputs": [
    {
     "ename": "AttributeError",
     "evalue": "'int' object has no attribute 'title'",
     "output_type": "error",
     "traceback": [
      "\u001b[0;31m---------------------------------------------------------------------------\u001b[0m",
      "\u001b[0;31mAttributeError\u001b[0m                            Traceback (most recent call last)",
      "\u001b[0;32m<ipython-input-8-b06a42fef41b>\u001b[0m in \u001b[0;36m<module>\u001b[0;34m\u001b[0m\n\u001b[1;32m      7\u001b[0m     \u001b[0mprint\u001b[0m\u001b[0;34m(\u001b[0m\u001b[0;34m\"Age: %d\\n\"\u001b[0m \u001b[0;34m%\u001b[0m \u001b[0mage\u001b[0m\u001b[0;34m)\u001b[0m\u001b[0;34m\u001b[0m\u001b[0m\n\u001b[1;32m      8\u001b[0m \u001b[0;34m\u001b[0m\u001b[0m\n\u001b[0;32m----> 9\u001b[0;31m \u001b[0mdescribe_person\u001b[0m\u001b[0;34m(\u001b[0m\u001b[0;36m71\u001b[0m\u001b[0;34m,\u001b[0m \u001b[0;34m'brian'\u001b[0m\u001b[0;34m,\u001b[0m \u001b[0;34m'kernighan'\u001b[0m\u001b[0;34m)\u001b[0m\u001b[0;34m\u001b[0m\u001b[0m\n\u001b[0m\u001b[1;32m     10\u001b[0m \u001b[0mdescribe_person\u001b[0m\u001b[0;34m(\u001b[0m\u001b[0;36m70\u001b[0m\u001b[0;34m,\u001b[0m \u001b[0;34m'ken'\u001b[0m\u001b[0;34m,\u001b[0m \u001b[0;34m'thompson'\u001b[0m\u001b[0;34m)\u001b[0m\u001b[0;34m\u001b[0m\u001b[0m\n\u001b[1;32m     11\u001b[0m \u001b[0mdescribe_person\u001b[0m\u001b[0;34m(\u001b[0m\u001b[0;36m68\u001b[0m\u001b[0;34m,\u001b[0m \u001b[0;34m'adele'\u001b[0m\u001b[0;34m,\u001b[0m \u001b[0;34m'goldberg'\u001b[0m\u001b[0;34m)\u001b[0m\u001b[0;34m\u001b[0m\u001b[0m\n",
      "\u001b[0;32m<ipython-input-8-b06a42fef41b>\u001b[0m in \u001b[0;36mdescribe_person\u001b[0;34m(first_name, last_name, age)\u001b[0m\n\u001b[1;32m      3\u001b[0m       \u001b[0;32mand\u001b[0m \u001b[0mtheir\u001b[0m \u001b[0mage\u001b[0m\u001b[0;34m.\u001b[0m\u001b[0;34m\u001b[0m\u001b[0m\n\u001b[1;32m      4\u001b[0m      It then prints this information out in a simple format.\"\"\"\n\u001b[0;32m----> 5\u001b[0;31m     \u001b[0mprint\u001b[0m\u001b[0;34m(\u001b[0m\u001b[0;34m\"First name: %s\"\u001b[0m \u001b[0;34m%\u001b[0m \u001b[0mfirst_name\u001b[0m\u001b[0;34m.\u001b[0m\u001b[0mtitle\u001b[0m\u001b[0;34m(\u001b[0m\u001b[0;34m)\u001b[0m\u001b[0;34m)\u001b[0m\u001b[0;34m\u001b[0m\u001b[0m\n\u001b[0m\u001b[1;32m      6\u001b[0m     \u001b[0mprint\u001b[0m\u001b[0;34m(\u001b[0m\u001b[0;34m\"Last name: %s\"\u001b[0m \u001b[0;34m%\u001b[0m \u001b[0mlast_name\u001b[0m\u001b[0;34m.\u001b[0m\u001b[0mtitle\u001b[0m\u001b[0;34m(\u001b[0m\u001b[0;34m)\u001b[0m\u001b[0;34m)\u001b[0m\u001b[0;34m\u001b[0m\u001b[0m\n\u001b[1;32m      7\u001b[0m     \u001b[0mprint\u001b[0m\u001b[0;34m(\u001b[0m\u001b[0;34m\"Age: %d\\n\"\u001b[0m \u001b[0;34m%\u001b[0m \u001b[0mage\u001b[0m\u001b[0;34m)\u001b[0m\u001b[0;34m\u001b[0m\u001b[0m\n",
      "\u001b[0;31mAttributeError\u001b[0m: 'int' object has no attribute 'title'"
     ]
    }
   ],
   "source": [
    "def describe_person(first_name, last_name, age):\n",
    "    \"\"\"This function takes in a person's first and last name,\n",
    "      and their age.\n",
    "     It then prints this information out in a simple format.\"\"\"\n",
    "    print(\"First name: %s\" % first_name.title())\n",
    "    print(\"Last name: %s\" % last_name.title())\n",
    "    print(\"Age: %d\\n\" % age)\n",
    "\n",
    "describe_person(71, 'brian', 'kernighan')\n",
    "describe_person(70, 'ken', 'thompson')\n",
    "describe_person(68, 'adele', 'goldberg')"
   ]
  },
  {
   "cell_type": "markdown",
   "metadata": {
    "lang": "es"
   },
   "source": [
    "Esto falla porque Python intenta hacer coincidir el valor 71 con el argumento `first_name`, el valor *brian* con el argumento` last_ name`, y el valor *kernighan* con el argumento 'edad'. Luego, cuando intenta imprimir el valor `first_name.title ()`, se da cuenta de que no puede usar el método `title()` en un entero."
   ]
  },
  {
   "cell_type": "markdown",
   "metadata": {
    "lang": "es"
   },
   "source": [
    "Ejercicios\n",
    "---\n",
    "#### Colores favoritos\n",
    "- Escribe una función que tome dos argumentos, el nombre de una persona y su color favorito. La función debe imprimir una declaración como \"el color favorito de Hillary es el azul\".\n",
    "- Llama a su función tres veces, con una persona y un color diferentes cada vez.\n",
    "\n",
    "#### Teléfonos\n",
    "- Escribe una función que tome dos argumentos, una marca de teléfono y un nombre de modelo. La función debe imprimir una frase como \"iPhone 6 Plus\".\n",
    "- Llama a su función tres veces, con una combinación diferente de marca y modelo cada vez."
   ]
  },
  {
   "cell_type": "markdown",
   "metadata": {
    "lang": "es"
   },
   "source": [
    "Argumentos de palabras clave\n",
    "===\n",
    "Python nos permite usar una sintaxis llamada *keyword arguments*. En este caso, podemos dar los argumentos en cualquier orden cuando llamemos a la función, siempre y cuando utilicemos el nombre de los argumentos en nuestra declaración de llamada. Aquí es cómo se puede hacer que el código anterior funcione utilizando argumentos de palabras clave:"
   ]
  },
  {
   "cell_type": "code",
   "execution_count": 10,
   "metadata": {},
   "outputs": [
    {
     "name": "stdout",
     "output_type": "stream",
     "text": [
      "First name: Brian\n",
      "Last name: Kernighan\n",
      "Age: 71\n",
      "\n",
      "First name: Ken\n",
      "Last name: Thompson\n",
      "Age: 70\n",
      "\n",
      "First name: Adele\n",
      "Last name: Goldberg\n",
      "Age: 68\n",
      "\n"
     ]
    }
   ],
   "source": [
    "def describe_person(first_name, last_name, age):\n",
    "    # This function takes in a person's first and last name,\n",
    "    #  and their age.\n",
    "    # It then prints this information out in a simple format.\n",
    "    print(\"First name: %s\" % first_name.title())\n",
    "    print(\"Last name: %s\" % last_name.title())\n",
    "    print(\"Age: %d\\n\" % age)\n",
    "\n",
    "describe_person(age=71, first_name='brian', last_name='kernighan')\n",
    "describe_person(age=70, first_name='ken', last_name='thompson')\n",
    "describe_person(age=68, first_name='adele', last_name='goldberg')"
   ]
  },
  {
   "cell_type": "markdown",
   "metadata": {
    "lang": "es"
   },
   "source": [
    "Esto funciona, porque Python no tiene que hacer coincidir los valores con los argumentos por posición. Coincide con el valor 71 con el argumento `age`, porque el valor 71 está claramente marcado para ir con ese argumento. Esta sintaxis es un poco más de escritura, pero es un código muy legible."
   ]
  },
  {
   "cell_type": "markdown",
   "metadata": {
    "lang": "es"
   },
   "source": [
    "Mezclando argumentos posicionales y palabras clave\n",
    "---\n",
    "Puede tener sentido a veces mezclar argumentos posicionales y palabras clave. En nuestro ejemplo anterior, podemos esperar que esta función siempre tome un nombre y un apellido. Antes de comenzar a mezclar argumentos posicionales y de palabras clave, agreguemos otra información a nuestra descripción de una persona. Volvamos también a usar solo argumentos posicionales por un momento:"
   ]
  },
  {
   "cell_type": "code",
   "execution_count": 11,
   "metadata": {},
   "outputs": [
    {
     "name": "stdout",
     "output_type": "stream",
     "text": [
      "First name: Brian\n",
      "Last name: Kernighan\n",
      "Age: 71\n",
      "Favorite language: C\n",
      "\n",
      "First name: Ken\n",
      "Last name: Thompson\n",
      "Age: 70\n",
      "Favorite language: Go\n",
      "\n",
      "First name: Adele\n",
      "Last name: Goldberg\n",
      "Age: 68\n",
      "Favorite language: Smalltalk\n",
      "\n"
     ]
    }
   ],
   "source": [
    "def describe_person(first_name, last_name, age, favorite_language):\n",
    "    # This function takes in a person's first and last name,\n",
    "    #  their age, and their favorite language.\n",
    "    # It then prints this information out in a simple format.\n",
    "    print(\"First name: %s\" % first_name.title())\n",
    "    print(\"Last name: %s\" % last_name.title())\n",
    "    print(\"Age: %d\" % age)\n",
    "    print(\"Favorite language: %s\\n\" % favorite_language)\n",
    "\n",
    "describe_person('brian', 'kernighan', 71, 'C')\n",
    "describe_person('ken', 'thompson', 70, 'Go')\n",
    "describe_person('adele', 'goldberg', 68, 'Smalltalk')"
   ]
  },
  {
   "cell_type": "markdown",
   "metadata": {
    "lang": "es"
   },
   "source": [
    "Podemos esperar que cualquiera que use esta función proporcione un nombre y un apellido, en ese orden. Pero ahora estamos empezando a incluir cierta información que podría no aplicarse a todos. Podemos abordar esto manteniendo los argumentos posicionales para el nombre y el apellido, pero esperamos argumentos de palabras clave para todo lo demás. Podemos mostrar que esto funciona agregando algunas personas más y teniendo información diferente sobre cada persona:"
   ]
  },
  {
   "cell_type": "code",
   "execution_count": 12,
   "metadata": {},
   "outputs": [
    {
     "name": "stdout",
     "output_type": "stream",
     "text": [
      "First name: Brian\n",
      "Last name: Kernighan\n",
      "Favorite language: C\n",
      "\n",
      "\n",
      "First name: Ken\n",
      "Last name: Thompson\n",
      "Age: 70\n",
      "\n",
      "\n",
      "First name: Adele\n",
      "Last name: Goldberg\n",
      "Age: 68\n",
      "Favorite language: Smalltalk\n",
      "\n",
      "\n",
      "First name: Dennis\n",
      "Last name: Ritchie\n",
      "Favorite language: C\n",
      "Died: 2011\n",
      "\n",
      "\n",
      "First name: Guido\n",
      "Last name: Van Rossum\n",
      "Favorite language: Python\n",
      "\n",
      "\n"
     ]
    }
   ],
   "source": [
    "###highlight=[2,7,8,9,10,11,12,13,14,15,16,17,18,19,20,22,23,24,25,26]\n",
    "def describe_person(first_name, last_name, age=None, favorite_language=None, died=None):\n",
    "    # This function takes in a person's first and last name,\n",
    "    #  their age, and their favorite language.\n",
    "    # It then prints this information out in a simple format.\n",
    "    \n",
    "    # Required information:\n",
    "    print(\"First name: %s\" % first_name.title())\n",
    "    print(\"Last name: %s\" % last_name.title())\n",
    "    \n",
    "    # Optional information:\n",
    "    if age:\n",
    "        print(\"Age: %d\" % age)\n",
    "    if favorite_language:\n",
    "        print(\"Favorite language: %s\" % favorite_language)\n",
    "    if died:\n",
    "        print(\"Died: %d\" % died)\n",
    "    \n",
    "    # Blank line at end.\n",
    "    print(\"\\n\")\n",
    "\n",
    "describe_person('brian', 'kernighan', favorite_language='C')\n",
    "describe_person('ken', 'thompson', age=70)\n",
    "describe_person('adele', 'goldberg', age=68, favorite_language='Smalltalk')\n",
    "describe_person('dennis', 'ritchie', favorite_language='C', died=2011)\n",
    "describe_person('guido', 'van rossum', favorite_language='Python')"
   ]
  },
  {
   "cell_type": "markdown",
   "metadata": {
    "lang": "es"
   },
   "source": [
    "Todos necesitan un nombre y apellido, pero todo lo demás es opcional. Este código aprovecha la palabra clave `None` de Python, que actúa como un valor vacío para una variable. De esta manera, el usuario es libre de suministrar cualquiera de los valores \"extra\" que le interesan. No se muestran los argumentos que no reciben un valor. Python compara estos valores adicionales por nombre, en lugar de por posición. Esta es una forma muy común y útil de definir funciones."
   ]
  },
  {
   "cell_type": "markdown",
   "metadata": {
    "lang": "es"
   },
   "source": [
    "Aceptando un número arbitrario de argumentos.\n",
    "===\n",
    "Ahora hemos visto que el uso de argumentos de palabras clave puede permitir declaraciones de llamadas mucho más flexibles.\n",
    "\n",
    "- Esto te beneficia a ti en tus propios programas, ya que puedes escribir una función que pueda manejar muchas situaciones diferentes que pueda encontrar.\n",
    "- Esto te beneficia si otros programadores usan sus programas, ya que tus funciones pueden aplicarse a una amplia gama de situaciones.\n",
    "- Esto te beneficia cuando usa las funciones de otros programadores, porque sus funciones pueden aplicarse a muchas situaciones que te interesarán.\n",
    "\n",
    "Sin embargo, hay otro problema que podemos abordar. Consideremos una función que toma dos números e imprime la suma de los dos números:"
   ]
  },
  {
   "cell_type": "code",
   "execution_count": 13,
   "metadata": {},
   "outputs": [
    {
     "name": "stdout",
     "output_type": "stream",
     "text": [
      "The sum of your numbers is 3.\n",
      "The sum of your numbers is 1.\n",
      "The sum of your numbers is -1.\n"
     ]
    }
   ],
   "source": [
    "def adder(num_1, num_2):\n",
    "    # This function adds two numbers together, and prints the sum.\n",
    "    sum = num_1 + num_2\n",
    "    print(\"The sum of your numbers is %d.\" % sum)\n",
    "    \n",
    "# Let's add some numbers.\n",
    "adder(1, 2)\n",
    "adder(-1, 2)\n",
    "adder(1, -2)"
   ]
  },
  {
   "cell_type": "markdown",
   "metadata": {
    "lang": "es"
   },
   "source": [
    "Esta función parece funcionar bien. Pero, ¿qué pasa si le pasamos tres números, que es una cosa perfectamente razonable para hacer matemáticamente?"
   ]
  },
  {
   "cell_type": "code",
   "execution_count": 14,
   "metadata": {},
   "outputs": [
    {
     "ename": "TypeError",
     "evalue": "adder() takes 2 positional arguments but 3 were given",
     "output_type": "error",
     "traceback": [
      "\u001b[0;31m---------------------------------------------------------------------------\u001b[0m",
      "\u001b[0;31mTypeError\u001b[0m                                 Traceback (most recent call last)",
      "\u001b[0;32m<ipython-input-14-b483b729303d>\u001b[0m in \u001b[0;36m<module>\u001b[0;34m\u001b[0m\n\u001b[1;32m      6\u001b[0m \u001b[0;34m\u001b[0m\u001b[0m\n\u001b[1;32m      7\u001b[0m \u001b[0;31m# Let's add some numbers.\u001b[0m\u001b[0;34m\u001b[0m\u001b[0;34m\u001b[0m\u001b[0m\n\u001b[0;32m----> 8\u001b[0;31m \u001b[0madder\u001b[0m\u001b[0;34m(\u001b[0m\u001b[0;36m1\u001b[0m\u001b[0;34m,\u001b[0m \u001b[0;36m2\u001b[0m\u001b[0;34m,\u001b[0m \u001b[0;36m3\u001b[0m\u001b[0;34m)\u001b[0m\u001b[0;34m\u001b[0m\u001b[0m\n\u001b[0m",
      "\u001b[0;31mTypeError\u001b[0m: adder() takes 2 positional arguments but 3 were given"
     ]
    }
   ],
   "source": [
    "###highlight=[8]\n",
    "def adder(num_1, num_2):\n",
    "    # This function adds two numbers together, and prints the sum.\n",
    "    sum = num_1 + num_2\n",
    "    print(\"The sum of your numbers is %d.\" % sum)\n",
    "    \n",
    "# Let's add some numbers.\n",
    "adder(1, 2, 3)"
   ]
  },
  {
   "cell_type": "markdown",
   "metadata": {
    "lang": "es"
   },
   "source": [
    "Esta función falla, ya que no importa qué combinación de argumentos posicionales y de palabras clave usemos, la función solo está escrita, dos aceptan dos argumentos. De hecho, una función escrita de esta manera solo funcionará con *exactamente* dos argumentos."
   ]
  },
  {
   "cell_type": "markdown",
   "metadata": {
    "lang": "es"
   },
   "source": [
    "Aceptando una secuencia de longitud arbitraria.\n",
    "---\n",
    "Python nos da una sintaxis para permitir que una función acepte un número arbitrario de argumentos. Si colocamos un argumento al final de la lista de argumentos, con un asterisco delante de él, ese argumento recopilará los valores restantes de la declaración de llamada en una tupla. Aquí hay un ejemplo que demuestra cómo funciona esto:"
   ]
  },
  {
   "cell_type": "code",
   "execution_count": 15,
   "metadata": {},
   "outputs": [
    {
     "name": "stdout",
     "output_type": "stream",
     "text": [
      "\n",
      "arg_1: 1\n",
      "arg_2: 2\n",
      "arg_3: ()\n",
      "\n",
      "arg_1: 1\n",
      "arg_2: 2\n",
      "arg_3: (3,)\n",
      "\n",
      "arg_1: 1\n",
      "arg_2: 2\n",
      "arg_3: (3, 4)\n",
      "\n",
      "arg_1: 1\n",
      "arg_2: 2\n",
      "arg_3: (3, 4, 5)\n"
     ]
    }
   ],
   "source": [
    "def example_function(arg_1, arg_2, *arg_3):\n",
    "    # Let's look at the argument values.\n",
    "    print('\\narg_1:', arg_1)\n",
    "    print('arg_2:', arg_2)\n",
    "    print('arg_3:', arg_3)\n",
    "    \n",
    "example_function(1, 2)\n",
    "example_function(1, 2, 3)\n",
    "example_function(1, 2, 3, 4)\n",
    "example_function(1, 2, 3, 4, 5)"
   ]
  },
  {
   "cell_type": "markdown",
   "metadata": {
    "lang": "es"
   },
   "source": [
    "Puedes usar un bucle for para procesar estos otros argumentos:"
   ]
  },
  {
   "cell_type": "code",
   "execution_count": 16,
   "metadata": {},
   "outputs": [
    {
     "name": "stdout",
     "output_type": "stream",
     "text": [
      "\n",
      "arg_1: 1\n",
      "arg_2: 2\n",
      "\n",
      "arg_1: 1\n",
      "arg_2: 2\n",
      "arg_3 value: 3\n",
      "\n",
      "arg_1: 1\n",
      "arg_2: 2\n",
      "arg_3 value: 3\n",
      "arg_3 value: 4\n",
      "\n",
      "arg_1: 1\n",
      "arg_2: 2\n",
      "arg_3 value: 3\n",
      "arg_3 value: 4\n",
      "arg_3 value: 5\n"
     ]
    }
   ],
   "source": [
    "###highlight=[6,7]\n",
    "def example_function(arg_1, arg_2, *arg_3):\n",
    "    # Let's look at the argument values.\n",
    "    print('\\narg_1:', arg_1)\n",
    "    print('arg_2:', arg_2)\n",
    "    for value in arg_3:\n",
    "        print('arg_3 value:', value)\n",
    "\n",
    "example_function(1, 2)\n",
    "example_function(1, 2, 3)\n",
    "example_function(1, 2, 3, 4)\n",
    "example_function(1, 2, 3, 4, 5)"
   ]
  },
  {
   "cell_type": "markdown",
   "metadata": {
    "lang": "en"
   },
   "source": [
    "We can now rewrite the adder() function to accept two or more arguments, and print the sum of those numbers:"
   ]
  },
  {
   "cell_type": "markdown",
   "metadata": {
    "lang": "es"
   },
   "source": [
    "Ahora podemos reescribir la función `adder()` para aceptar dos o más argumentos, e imprimir la suma de esos números:"
   ]
  },
  {
   "cell_type": "code",
   "execution_count": 17,
   "metadata": {},
   "outputs": [],
   "source": [
    "a = 2\n",
    "b = 3\n",
    "suma = a+b"
   ]
  },
  {
   "cell_type": "code",
   "execution_count": null,
   "metadata": {},
   "outputs": [],
   "source": [
    "c = suma+suma # acumulador\n",
    "c = c +1 # contador c += 1\n",
    "c "
   ]
  },
  {
   "cell_type": "code",
   "execution_count": 18,
   "metadata": {},
   "outputs": [
    {
     "name": "stdout",
     "output_type": "stream",
     "text": [
      "The sum of your numbers is 86.\n"
     ]
    }
   ],
   "source": [
    "def adder(num_1, num_2, *nums):\n",
    "    # This function adds the given numbers together,\n",
    "    #  and prints the sum.\n",
    "    \n",
    "    # Start by adding the first two numbers, which\n",
    "    #  will always be present.\n",
    "    sum = num_1 + num_2\n",
    "    \n",
    "    # Then add any other numbers that were sent.\n",
    "    for num in nums:\n",
    "        sum = sum + num\n",
    "        \n",
    "    # Print the results.\n",
    "    print(\"The sum of your numbers is %d.\" % sum)\n",
    "    \n",
    "# Let's add some numbers.\n",
    "adder(1, 2, 3,4,5,6,7,1,2,1,2,4,5,1,2,3,5,5,1,2,3,21)"
   ]
  },
  {
   "cell_type": "markdown",
   "metadata": {
    "lang": "es"
   },
   "source": [
    "En esta nueva versión, Python hace lo siguiente:\n",
    "\n",
    "- almacena el primer valor en la declaración de llamada en el argumento `num_1`;\n",
    "- almacena el segundo valor en la declaración de llamada en el argumento `num_2`;\n",
    "- almacena todos los demás valores en la declaración de llamada como una tupla en el argumento `nums`.\n",
    "\n",
    "Luego podemos \"descomprimir\" estos valores, utilizando un bucle for. Podemos demostrar cuán flexible es esta función llamándola varias veces, con un número diferente de argumentos cada vez."
   ]
  },
  {
   "cell_type": "code",
   "execution_count": 21,
   "metadata": {},
   "outputs": [
    {
     "name": "stdout",
     "output_type": "stream",
     "text": [
      "The sum of your numbers is 3.\n",
      "The sum of your numbers is 6.\n",
      "The sum of your numbers is 10.\n",
      "The sum of your numbers is 15.\n"
     ]
    }
   ],
   "source": [
    "###highlight=[19,20,21,22]\n",
    "def adder(num_1, num_2, *nums):\n",
    "    # This function adds the given numbers together,\n",
    "    #  and prints the sum.\n",
    "    \n",
    "    # Start by adding the first two numbers, which\n",
    "    #  will always be present.\n",
    "    sum = num_1 + num_2\n",
    "    \n",
    "    # Then add any other numbers that were sent.\n",
    "    for num in nums:\n",
    "        sum = sum + num\n",
    "        \n",
    "    # Print the results.\n",
    "    print(\"The sum of your numbers is %d.\" % sum)\n",
    "\n",
    "    \n",
    "# Let's add some numbers.\n",
    "adder(1, 2)\n",
    "adder(1, 2, 3)\n",
    "adder(1, 2, 3, 4)\n",
    "adder(1, 2, 3, 4, 5)"
   ]
  },
  {
   "cell_type": "markdown",
   "metadata": {
    "lang": "es"
   },
   "source": [
    "Aceptar un número arbitrario de argumentos de palabras clave\n",
    "---\n",
    "Python también proporciona una sintaxis para aceptar un número arbitrario de argumentos de palabras clave. La sintaxis se ve así:"
   ]
  },
  {
   "cell_type": "code",
   "execution_count": 22,
   "metadata": {},
   "outputs": [
    {
     "name": "stdout",
     "output_type": "stream",
     "text": [
      "\n",
      "arg_1: a\n",
      "arg_2: b\n",
      "arg_3: {}\n",
      "\n",
      "arg_1: a\n",
      "arg_2: b\n",
      "arg_3: {'pollo': 'c'}\n",
      "\n",
      "arg_1: a\n",
      "arg_2: b\n",
      "arg_3: {'value_3': 'c', 'value_4': 'd'}\n",
      "\n",
      "arg_1: a\n",
      "arg_2: b\n",
      "arg_3: {'value_3': 'c', 'value_4': 'd', 'value_5': 'e'}\n"
     ]
    }
   ],
   "source": [
    "def example_function(arg_1, arg_2, **kwargs):\n",
    "    # Let's look at the argument values.\n",
    "    print('\\narg_1:', arg_1)\n",
    "    print('arg_2:', arg_2)\n",
    "    print('arg_3:', kwargs)\n",
    "    \n",
    "example_function('a', 'b')\n",
    "example_function('a', 'b', pollo='c')\n",
    "example_function('a', 'b', value_3='c', value_4='d')\n",
    "example_function('a', 'b', value_3='c', value_4='d', value_5='e')"
   ]
  },
  {
   "cell_type": "markdown",
   "metadata": {
    "lang": "es"
   },
   "source": [
    "El tercer argumento tiene dos asteriscos delante de él, que le dice a Python que recopile todos los argumentos de valor-clave restantes en la declaración de llamada. Este argumento se denomina comúnmente *kwargs*. Vemos en la salida que estos valores-clave se almacenan en un diccionario. Podemos recorrer este diccionario para trabajar con todos los valores que se pasan a la función:"
   ]
  },
  {
   "cell_type": "code",
   "execution_count": 23,
   "metadata": {},
   "outputs": [
    {
     "name": "stdout",
     "output_type": "stream",
     "text": [
      "\n",
      "arg_1: a\n",
      "arg_2: b\n",
      "\n",
      "arg_1: a\n",
      "arg_2: b\n",
      "arg_3 value: c\n",
      "\n",
      "arg_1: a\n",
      "arg_2: b\n",
      "arg_3 value: c\n",
      "arg_3 value: d\n",
      "\n",
      "arg_1: a\n",
      "arg_2: b\n",
      "arg_3 value: c\n",
      "arg_3 value: d\n",
      "arg_3 value: e\n"
     ]
    }
   ],
   "source": [
    "###highlight=[6,7]\n",
    "def example_function(arg_1, arg_2, **kwargs):\n",
    "    # Let's look at the argument values.\n",
    "    print('\\narg_1:', arg_1)\n",
    "    print('arg_2:', arg_2)\n",
    "    for key, value in kwargs.items():\n",
    "        print('arg_3 value:', value)\n",
    "    \n",
    "example_function('a', 'b')\n",
    "example_function('a', 'b', value_3='c')\n",
    "example_function('a', 'b', value_3='c', value_4='d')\n",
    "example_function('a', 'b', value_3='c', value_4='d', value_5='e')"
   ]
  },
  {
   "cell_type": "markdown",
   "metadata": {
    "lang": "es"
   },
   "source": [
    "Anteriormente creamos una función que nos permite describir a una persona, y teníamos tres cosas que podríamos describir acerca de una persona. Podríamos incluir su edad, su idioma favorito y la fecha en que fallecieron. Pero esa fue la única información que pudimos incluir, porque era la única información que la función estaba preparada para manejar:"
   ]
  },
  {
   "cell_type": "code",
   "execution_count": null,
   "metadata": {},
   "outputs": [],
   "source": [
    "def describe_person(first_name, last_name, age=None, favorite_language=None, died=None):\n",
    "    # This function takes in a person's first and last name,\n",
    "    #  their age, and their favorite language.\n",
    "    # It then prints this information out in a simple format.\n",
    "    \n",
    "    # Required information:\n",
    "    print(\"First name: %s\" % first_name.title())\n",
    "    print(\"Last name: %s\" % last_name.title())\n",
    "    \n",
    "    # Optional information:\n",
    "    if age:\n",
    "        print(\"Age: %d\" % age)\n",
    "    if favorite_language:\n",
    "        print(\"Favorite language: %s\" % favorite_language)\n",
    "    if died:\n",
    "        print(\"Died: %d\" % died)\n",
    "    \n",
    "    # Blank line at end.\n",
    "    print(\"\\n\")\n",
    "\n",
    "describe_person('brian', 'kernighan', favorite_language='C')\n",
    "describe_person('ken', 'thompson', age=70)\n",
    "describe_person('adele', 'goldberg', age=68, favorite_language='Smalltalk')\n",
    "describe_person('dennis', 'ritchie', favorite_language='C', died=2011)\n",
    "describe_person('guido', 'van rossum', favorite_language='Python')"
   ]
  },
  {
   "cell_type": "markdown",
   "metadata": {
    "lang": "es"
   },
   "source": [
    "Podemos hacer esta función mucho más flexible al aceptar cualquier número de argumentos de palabras clave. Así es como se ve la función, usando la sintaxis para aceptar tantos argumentos de palabras clave como la persona que llama quiere proporcionar:"
   ]
  },
  {
   "cell_type": "code",
   "execution_count": 24,
   "metadata": {},
   "outputs": [
    {
     "name": "stdout",
     "output_type": "stream",
     "text": [
      "First name: Brian\n",
      "Last name: Kernighan\n",
      "Favorite_Language: C\n",
      "\n",
      "\n",
      "First name: Ken\n",
      "Last name: Thompson\n",
      "Age: 70\n",
      "\n",
      "\n",
      "First name: Adele\n",
      "Last name: Goldberg\n",
      "Age: 68\n",
      "Favorite_Language: Smalltalk\n",
      "\n",
      "\n",
      "First name: Dennis\n",
      "Last name: Ritchie\n",
      "Favorite_Language: C\n",
      "Died: 2011\n",
      "\n",
      "\n",
      "First name: Guido\n",
      "Last name: Van Rossum\n",
      "Favorite_Language: Python\n",
      "\n",
      "\n"
     ]
    }
   ],
   "source": [
    "###highlight=[2,3,4,10,11,12]\n",
    "def describe_person(first_name, last_name, **kwargs):\n",
    "    # This function takes in a person's first and last name,\n",
    "    #  and then an arbitrary number of keyword arguments.\n",
    "    \n",
    "    # Required information:\n",
    "    print(\"First name: %s\" % first_name.title())\n",
    "    print(\"Last name: %s\" % last_name.title())\n",
    "    \n",
    "    # Optional information:\n",
    "    for key in kwargs:\n",
    "        print(\"%s: %s\" % (key.title(), kwargs[key]))\n",
    "    \n",
    "    # Blank line at end.\n",
    "    print(\"\\n\")\n",
    "\n",
    "describe_person('brian', 'kernighan', favorite_language='C')\n",
    "describe_person('ken', 'thompson', age=70)\n",
    "describe_person('adele', 'goldberg', age=68, favorite_language='Smalltalk')\n",
    "describe_person('dennis', 'ritchie', favorite_language='C', died=2011)\n",
    "describe_person('guido', 'van rossum', favorite_language='Python')"
   ]
  },
  {
   "cell_type": "code",
   "execution_count": 26,
   "metadata": {},
   "outputs": [
    {
     "data": {
      "text/plain": [
       "'Hola mi nombre es pedro'"
      ]
     },
     "execution_count": 26,
     "metadata": {},
     "output_type": "execute_result"
    }
   ],
   "source": [
    "cadena = \"Hola mi nombre es favio\"\n",
    "cadena.replace(\"favio\", \"pedro\")"
   ]
  },
  {
   "cell_type": "markdown",
   "metadata": {
    "lang": "es"
   },
   "source": [
    "Esto es bastante bueno. Obtenemos la misma salida, y no tenemos que incluir un montón de pruebas para ver qué tipo de información se pasó a la función. Siempre requerimos un nombre y un apellido, pero más allá de eso, la persona que llama es libre de proporcionar cualquier par de palabra clave-valor para describir a una persona. Demostremos que se puede proporcionar cualquier tipo de información a esta función. También limpiamos la salida reemplazando los guiones bajos en las teclas con un espacio."
   ]
  },
  {
   "cell_type": "code",
   "execution_count": 25,
   "metadata": {},
   "outputs": [
    {
     "name": "stdout",
     "output_type": "stream",
     "text": [
      "First name: Brian\n",
      "Last name: Kernighan\n",
      "Favorite Language: C\n",
      "Famous Book: The C Programming Language\n",
      "\n",
      "\n",
      "First name: Ken\n",
      "Last name: Thompson\n",
      "Age: 70\n",
      "Alma Mater: UC Berkeley\n",
      "\n",
      "\n",
      "First name: Adele\n",
      "Last name: Goldberg\n",
      "Age: 68\n",
      "Favorite Language: Smalltalk\n",
      "\n",
      "\n",
      "First name: Dennis\n",
      "Last name: Ritchie\n",
      "Favorite Language: C\n",
      "Died: 2011\n",
      "Famous Book: The C Programming Language\n",
      "\n",
      "\n",
      "First name: Guido\n",
      "Last name: Van Rossum\n",
      "Favorite Language: Python\n",
      "Company: Dropbox\n",
      "\n",
      "\n"
     ]
    }
   ],
   "source": [
    "###highlight=[12,17,18,19,20,21]\n",
    "def describe_person(first_name, last_name, **kwargs):\n",
    "    # This function takes in a person's first and last name,\n",
    "    #  and then an arbitrary number of keyword arguments.\n",
    "    \n",
    "    # Required information:\n",
    "    print(\"First name: %s\" % first_name.title())\n",
    "    print(\"Last name: %s\" % last_name.title())\n",
    "    \n",
    "    # Optional information:\n",
    "    for key in kwargs:\n",
    "        print(\"%s: %s\" % (key.title().replace('_', ' '), kwargs[key]))\n",
    "    \n",
    "    # Blank line at end.\n",
    "    print(\"\\n\")\n",
    "\n",
    "describe_person('brian', 'kernighan', favorite_language='C', famous_book='The C Programming Language')\n",
    "describe_person('ken', 'thompson', age=70, alma_mater='UC Berkeley')\n",
    "describe_person('adele', 'goldberg', age=68, favorite_language='Smalltalk')\n",
    "describe_person('dennis', 'ritchie', favorite_language='C', died=2011, famous_book='The C Programming Language')\n",
    "describe_person('guido', 'van rossum', favorite_language='Python', company='Dropbox')"
   ]
  }
 ],
 "metadata": {
  "kernelspec": {
   "display_name": "Python 3",
   "language": "python",
   "name": "python3"
  },
  "language_info": {
   "codemirror_mode": {
    "name": "ipython",
    "version": 3
   },
   "file_extension": ".py",
   "mimetype": "text/x-python",
   "name": "python",
   "nbconvert_exporter": "python",
   "pygments_lexer": "ipython3",
   "version": "3.6.5"
  },
  "nbTranslate": {
   "displayLangs": [
    "es"
   ],
   "hotkey": "alt-t",
   "langInMainMenu": true,
   "sourceLang": "en",
   "targetLang": "es",
   "useGoogleTranslate": true
  }
 },
 "nbformat": 4,
 "nbformat_minor": 1
}
