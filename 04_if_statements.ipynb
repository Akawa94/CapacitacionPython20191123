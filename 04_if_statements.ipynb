{
 "cells": [
  {
   "cell_type": "markdown",
   "metadata": {},
   "source": [
    "Declaraciones *if*\n",
    "===\n",
    "Al permitirle responder de manera selectiva a diferentes situaciones y condiciones, los \"if\" abren nuevas posibilidades para sus programas. En esta sección, aprenderemos cómo probar ciertas condiciones y luego responder de manera adecuada a esas condiciones."
   ]
  },
  {
   "cell_type": "markdown",
   "metadata": {},
   "source": [
    "¿Qué es una declaración *if*?\n",
    "===\n",
    "Una declaración *if* prueba una condición y luego responde a esa condición. Si la condición es verdadera, entonces cualquier acción que se enumere a continuación se lleva a cabo. Puedes probar múltiples condiciones al mismo tiempo y responder adecuadamente a cada condición.\n",
    "\n",
    "Ejemplo\n",
    "---\n",
    "Aquí hay un ejemplo que muestra una serie de postres que me gustan. Se pueden enumerar esos postres, pero te permite saber cuál es mi favorito."
   ]
  },
  {
   "cell_type": "code",
   "execution_count": 1,
   "metadata": {},
   "outputs": [
    {
     "name": "stdout",
     "output_type": "stream",
     "text": [
      "Quiero helado.\n",
      "Quiero chocolate.\n",
      "¡El Caramelo es mi postre favorito!\n",
      "Quiero galleta.\n"
     ]
    }
   ],
   "source": [
    "# A list of desserts I like.\n",
    "desserts = ['helado', 'chocolate', 'caramelo', 'galleta']\n",
    "favorite_dessert = 'caramelo'\n",
    "\n",
    "# Print the desserts out, but let everyone know my favorite dessert.\n",
    "for dessert in desserts:\n",
    "    if dessert == favorite_dessert:\n",
    "        # This dessert is my favorite, let's let everyone know!\n",
    "        print(\"¡El %s es mi postre favorito!\" % dessert.title())\n",
    "    else:\n",
    "        # I like these desserts, but they are not my favorite.\n",
    "        print(\"Quiero %s.\" % dessert)"
   ]
  },
  {
   "cell_type": "markdown",
   "metadata": {},
   "source": [
    "#### ¿Qué pasa en este programa?\n",
    "\n",
    "- El programa comienza con una lista de postres, y un postre se identifica como favorito.\n",
    "- El bucle for recorre todos los postres.\n",
    "- Dentro del bucle for, se prueba cada elemento de la lista.\n",
    "     - Si el valor actual de *dessert* es igual al valor de *favorite_dessert*, se imprime un mensaje de que este es mi favorito.\n",
    "     - Si el valor actual de *dessert* no es igual al valor de *favorite_dessert*, se imprime un mensaje que simplemente me gusta el postre.\n",
    "    \n",
    "Puedes probar tantas condiciones como desees en una sentencia *if*, como verás en un momento."
   ]
  },
  {
   "cell_type": "markdown",
   "metadata": {},
   "source": [
    "Pruebas logicas\n",
    "===\n",
    "Cada sentencia if se evalúa como *True* o *False*. *True* y *False* son palabras clave de Python, que tienen significados especiales adjuntos. Puedes probar las siguientes condiciones en sus declaraciones if:\n",
    "\n",
    "- igualdad (==)\n",
    "- desigualdad (! =)\n",
    "- otras desigualdades\n",
    "     - mayor que (>)\n",
    "     - mayor que o igual a (> =)\n",
    "     - menos que (<)\n",
    "     - menor o igual que (<=)\n",
    "- Puede probar si un elemento está **en** una lista."
   ]
  },
  {
   "cell_type": "markdown",
   "metadata": {},
   "source": [
    "Igualdad\n",
    "---\n",
    "Dos elementos son *iguales* si tienen el mismo valor. Puedes probar la igualdad entre números, cadenas y una cantidad de otros objetos que aprenderá más adelante. Algunos de estos resultados pueden ser sorprendentes, así que observa detenidamente los ejemplos a continuación.\n",
    "\n",
    "En Python, como en muchos lenguajes de programación, dos pruebas de signos de igualdad equivalen.\n",
    "\n",
    "**¡Ten cuidado!** de no usar accidentalmente un signo de igual, lo que realmente puede hacer que las cosas salgan mal porque ese signo de igual pone su item al valor que está probando."
   ]
  },
  {
   "cell_type": "code",
   "execution_count": 2,
   "metadata": {},
   "outputs": [
    {
     "data": {
      "text/plain": [
       "True"
      ]
     },
     "execution_count": 2,
     "metadata": {},
     "output_type": "execute_result"
    }
   ],
   "source": [
    "5 == 5"
   ]
  },
  {
   "cell_type": "code",
   "execution_count": 3,
   "metadata": {},
   "outputs": [
    {
     "data": {
      "text/plain": [
       "False"
      ]
     },
     "execution_count": 3,
     "metadata": {},
     "output_type": "execute_result"
    }
   ],
   "source": [
    "3 == 5 "
   ]
  },
  {
   "cell_type": "code",
   "execution_count": 4,
   "metadata": {},
   "outputs": [
    {
     "data": {
      "text/plain": [
       "True"
      ]
     },
     "execution_count": 4,
     "metadata": {},
     "output_type": "execute_result"
    }
   ],
   "source": [
    "5 == 5.0"
   ]
  },
  {
   "cell_type": "code",
   "execution_count": 5,
   "metadata": {},
   "outputs": [
    {
     "data": {
      "text/plain": [
       "True"
      ]
     },
     "execution_count": 5,
     "metadata": {},
     "output_type": "execute_result"
    }
   ],
   "source": [
    "'favio' == 'favio'"
   ]
  },
  {
   "cell_type": "code",
   "execution_count": 6,
   "metadata": {},
   "outputs": [
    {
     "data": {
      "text/plain": [
       "False"
      ]
     },
     "execution_count": 6,
     "metadata": {},
     "output_type": "execute_result"
    }
   ],
   "source": [
    "'Pedro' == 'pedro'"
   ]
  },
  {
   "cell_type": "code",
   "execution_count": 7,
   "metadata": {},
   "outputs": [
    {
     "data": {
      "text/plain": [
       "True"
      ]
     },
     "execution_count": 7,
     "metadata": {},
     "output_type": "execute_result"
    }
   ],
   "source": [
    "'Carlos'.lower() == 'carlos'.lower()"
   ]
  },
  {
   "cell_type": "code",
   "execution_count": 8,
   "metadata": {},
   "outputs": [
    {
     "data": {
      "text/plain": [
       "False"
      ]
     },
     "execution_count": 8,
     "metadata": {},
     "output_type": "execute_result"
    }
   ],
   "source": [
    "'5' == 5"
   ]
  },
  {
   "cell_type": "code",
   "execution_count": 9,
   "metadata": {},
   "outputs": [
    {
     "data": {
      "text/plain": [
       "True"
      ]
     },
     "execution_count": 9,
     "metadata": {},
     "output_type": "execute_result"
    }
   ],
   "source": [
    "'5' == str(5)"
   ]
  },
  {
   "cell_type": "markdown",
   "metadata": {},
   "source": [
    "Desigualdad\n",
    "---\n",
    "Dos elementos son *desigual* si no tienen el mismo valor. En Python, probamos la desigualdad usando el signo de exclamación y uno es el signo igual.\n",
    "\n",
    "A veces quieres probar la igualdad y si eso falla, asume la desigualdad. A veces tiene más sentido probar directamente la desigualdad."
   ]
  },
  {
   "cell_type": "code",
   "execution_count": 10,
   "metadata": {},
   "outputs": [
    {
     "data": {
      "text/plain": [
       "True"
      ]
     },
     "execution_count": 10,
     "metadata": {},
     "output_type": "execute_result"
    }
   ],
   "source": [
    "3 != 5"
   ]
  },
  {
   "cell_type": "code",
   "execution_count": 11,
   "metadata": {},
   "outputs": [
    {
     "data": {
      "text/plain": [
       "False"
      ]
     },
     "execution_count": 11,
     "metadata": {},
     "output_type": "execute_result"
    }
   ],
   "source": [
    "5 != 5"
   ]
  },
  {
   "cell_type": "code",
   "execution_count": 12,
   "metadata": {},
   "outputs": [
    {
     "data": {
      "text/plain": [
       "False"
      ]
     },
     "execution_count": 12,
     "metadata": {},
     "output_type": "execute_result"
    }
   ],
   "source": [
    "'Favio' != 'Favio'"
   ]
  },
  {
   "cell_type": "markdown",
   "metadata": {},
   "source": [
    "Otras desigualdades\n",
    "---\n",
    "### Más grande que"
   ]
  },
  {
   "cell_type": "code",
   "execution_count": 13,
   "metadata": {},
   "outputs": [
    {
     "data": {
      "text/plain": [
       "True"
      ]
     },
     "execution_count": 13,
     "metadata": {},
     "output_type": "execute_result"
    }
   ],
   "source": [
    "5 > 3"
   ]
  },
  {
   "cell_type": "markdown",
   "metadata": {},
   "source": [
    "### Mayor or igual que"
   ]
  },
  {
   "cell_type": "code",
   "execution_count": 14,
   "metadata": {},
   "outputs": [
    {
     "data": {
      "text/plain": [
       "True"
      ]
     },
     "execution_count": 14,
     "metadata": {},
     "output_type": "execute_result"
    }
   ],
   "source": [
    "5 >= 3"
   ]
  },
  {
   "cell_type": "code",
   "execution_count": 15,
   "metadata": {},
   "outputs": [
    {
     "data": {
      "text/plain": [
       "True"
      ]
     },
     "execution_count": 15,
     "metadata": {},
     "output_type": "execute_result"
    }
   ],
   "source": [
    "3 >= 3"
   ]
  },
  {
   "cell_type": "markdown",
   "metadata": {},
   "source": [
    "### Menor que"
   ]
  },
  {
   "cell_type": "code",
   "execution_count": 16,
   "metadata": {},
   "outputs": [
    {
     "data": {
      "text/plain": [
       "True"
      ]
     },
     "execution_count": 16,
     "metadata": {},
     "output_type": "execute_result"
    }
   ],
   "source": [
    "3 < 5"
   ]
  },
  {
   "cell_type": "markdown",
   "metadata": {},
   "source": [
    "### Menor o igual que"
   ]
  },
  {
   "cell_type": "code",
   "execution_count": 17,
   "metadata": {},
   "outputs": [
    {
     "data": {
      "text/plain": [
       "True"
      ]
     },
     "execution_count": 17,
     "metadata": {},
     "output_type": "execute_result"
    }
   ],
   "source": [
    "3 <= 5"
   ]
  },
  {
   "cell_type": "code",
   "execution_count": 18,
   "metadata": {},
   "outputs": [
    {
     "data": {
      "text/plain": [
       "True"
      ]
     },
     "execution_count": 18,
     "metadata": {},
     "output_type": "execute_result"
    }
   ],
   "source": [
    "3 <= 3"
   ]
  },
  {
   "cell_type": "markdown",
   "metadata": {},
   "source": [
    "Comprobando si un artículo es **en** una lista\n",
    "---\n",
    "Puedes verificar si un elemento está en una lista usando la palabra clave **in**."
   ]
  },
  {
   "cell_type": "code",
   "execution_count": 19,
   "metadata": {},
   "outputs": [
    {
     "data": {
      "text/plain": [
       "True"
      ]
     },
     "execution_count": 19,
     "metadata": {},
     "output_type": "execute_result"
    }
   ],
   "source": [
    "vowels = ['a', 'e', 'i', 'o', 'u']\n",
    "'a' in vowels"
   ]
  },
  {
   "cell_type": "code",
   "execution_count": 20,
   "metadata": {},
   "outputs": [
    {
     "name": "stdout",
     "output_type": "stream",
     "text": [
      "hello\n"
     ]
    }
   ],
   "source": [
    "vowels = ['a', 'e', 'i', 'o', 'u']\n",
    "if 'a' in vowels:\n",
    "    print(\"hello\")"
   ]
  },
  {
   "cell_type": "markdown",
   "metadata": {},
   "source": [
    "Ejercicios\n",
    "---\n",
    "#### Verdadero y falso\n",
    "- Escribe un programa que conste de al menos diez líneas, cada una de las cuales tiene una declaración lógica. La salida de su programa debe ser 5 **True** y 5 ** False **.\n",
    "- Nota: probablemente necesitarás escribir `print (5> 3)`, no solo `5> 3`."
   ]
  },
  {
   "cell_type": "code",
   "execution_count": 22,
   "metadata": {},
   "outputs": [
    {
     "name": "stdout",
     "output_type": "stream",
     "text": [
      "True\n",
      "True\n",
      "True\n",
      "True\n",
      "True\n",
      "False\n",
      "False\n",
      "False\n",
      "False\n",
      "False\n"
     ]
    }
   ],
   "source": [
    "print(5 > 3)\n",
    "print(2 == 2)\n",
    "print(4 > 1)\n",
    "print(1 < 10)\n",
    "print(10 == 10)\n",
    "print(10 != 10)\n",
    "print(40 > 50)\n",
    "print(33 <= 2)\n",
    "print(1 > 10)\n",
    "print(12 < 10)"
   ]
  },
  {
   "cell_type": "markdown",
   "metadata": {},
   "source": [
    "La cadena if-elif ... else\n",
    "===\n",
    "Puedes probar cualquier serie de condiciones que desee y puede probar sus condiciones en cualquier combinación que desee."
   ]
  },
  {
   "cell_type": "markdown",
   "metadata": {},
   "source": [
    "Simples declaraciones *if*\n",
    "---\n",
    "La prueba más simple tiene una única instrucción **if**, y una única instrucción para ejecutar si la condición es **True**."
   ]
  },
  {
   "cell_type": "code",
   "execution_count": 23,
   "metadata": {},
   "outputs": [
    {
     "name": "stdout",
     "output_type": "stream",
     "text": [
      "Wow, we have a lot of dogs here!\n"
     ]
    }
   ],
   "source": [
    "dogs = ['willie', 'hootz', 'peso', 'juno']\n",
    "\n",
    "if len(dogs) > 3:\n",
    "    print(\"Wow, we have a lot of dogs here!\")"
   ]
  },
  {
   "cell_type": "markdown",
   "metadata": {},
   "source": [
    "En esta situación, no pasa nada si la prueba no pasa."
   ]
  },
  {
   "cell_type": "code",
   "execution_count": 24,
   "metadata": {},
   "outputs": [],
   "source": [
    "dogs = ['willie', 'hootz']\n",
    "\n",
    "if len(dogs) > 3:\n",
    "    print(\"Wow, we have a lot of dogs here!\")"
   ]
  },
  {
   "cell_type": "markdown",
   "metadata": {},
   "source": [
    "Ten en cuenta que no hay errores. La condición `len (dogs)> 3` se evalúa como False, y el programa pasa a cualquier línea después del bloque **if**."
   ]
  },
  {
   "cell_type": "markdown",
   "metadata": {},
   "source": [
    "Declaraciones if-else\n",
    "---\n",
    "Muchas veces querrás responder de dos maneras posibles a una prueba. Si la prueba se evalúa como **True**, desearás hacer una cosa. Si la prueba se evalúa como **False**, querrás hacer otra cosa. La estructura **if-else** te permite hacerlo fácilmente."
   ]
  },
  {
   "cell_type": "code",
   "execution_count": 25,
   "metadata": {},
   "outputs": [
    {
     "name": "stdout",
     "output_type": "stream",
     "text": [
      "Wow, we have a lot of dogs here!\n"
     ]
    }
   ],
   "source": [
    "dogs = ['willie', 'hootz', 'peso', 'juno']\n",
    "\n",
    "if len(dogs) > 3:\n",
    "    print(\"Wow, we have a lot of dogs here!\")\n",
    "else:\n",
    "    print(\"Okay, this is a reasonable number of dogs.\")"
   ]
  },
  {
   "cell_type": "markdown",
   "metadata": {},
   "source": [
    "Nuestros resultados no han cambiado en este caso, porque si la prueba se evalúa como **True** solo se ejecutan las declaraciones bajo la instrucción **if**. Las declaraciones en el área **else** solo se ejecutan si la prueba falla:"
   ]
  },
  {
   "cell_type": "code",
   "execution_count": 26,
   "metadata": {},
   "outputs": [
    {
     "name": "stdout",
     "output_type": "stream",
     "text": [
      "Okay, this is a reasonable number of dogs.\n"
     ]
    }
   ],
   "source": [
    "dogs = ['willie', 'hootz']\n",
    "\n",
    "if len(dogs) > 3:\n",
    "    print(\"Wow, we have a lot of dogs here!\")\n",
    "else:\n",
    "    print(\"Okay, this is a reasonable number of dogs.\")"
   ]
  },
  {
   "cell_type": "markdown",
   "metadata": {},
   "source": [
    "La prueba se evaluó a **False**, por lo que solo se ejecuta la instrucción bajo `else`."
   ]
  },
  {
   "cell_type": "markdown",
   "metadata": {},
   "source": [
    "Cadenas if-elif ... else \n",
    "---\n",
    "Muchas veces, querrás probar una serie de condiciones, en lugar de solo una situación o cualquiera de ellas. Puedes hacer esto con una serie de sentencias if-elif-else\n",
    "\n",
    "No hay límite a la cantidad de condiciones que puede probar. Siempre necesitas una sentencia if para iniciar la cadena, y nunca puede tener más de una sentencia. Pero puedes tener tantas declaraciones elif como quieras."
   ]
  },
  {
   "cell_type": "code",
   "execution_count": 27,
   "metadata": {},
   "outputs": [
    {
     "name": "stdout",
     "output_type": "stream",
     "text": [
      "Holy mackerel, we might as well start a dog hostel!\n"
     ]
    }
   ],
   "source": [
    "dogs = ['willie', 'hootz', 'peso', 'monty', 'juno', 'turkey']\n",
    "\n",
    "if len(dogs) >= 5:\n",
    "    print(\"Holy mackerel, we might as well start a dog hostel!\")\n",
    "elif len(dogs) >= 3:\n",
    "    print(\"Wow, we have a lot of dogs here!\")\n",
    "else:\n",
    "    print(\"Okay, this is a reasonable number of dogs.\")"
   ]
  },
  {
   "cell_type": "markdown",
   "metadata": {},
   "source": [
    "Es importante tener en cuenta que en situaciones como esta, solo se evalúa la primera prueba. En una cadena if-elif-else, una vez que una prueba pasa, el resto de las condiciones se ignoran."
   ]
  },
  {
   "cell_type": "code",
   "execution_count": 28,
   "metadata": {},
   "outputs": [
    {
     "name": "stdout",
     "output_type": "stream",
     "text": [
      "Wow, we have a lot of dogs here!\n"
     ]
    }
   ],
   "source": [
    "dogs = ['willie', 'hootz', 'peso', 'monty']\n",
    "\n",
    "if len(dogs) >= 5:\n",
    "    print(\"Holy mackerel, we might as well start a dog hostel!\")\n",
    "elif len(dogs) >= 3:\n",
    "    print(\"Wow, we have a lot of dogs here!\")\n",
    "else:\n",
    "    print(\"Okay, this is a reasonable number of dogs.\")"
   ]
  },
  {
   "cell_type": "markdown",
   "metadata": {},
   "source": [
    "La primera prueba falló, por lo que Python evaluó la segunda prueba. Esa prueba fue aprobada, por lo que se ejecuta la instrucción correspondiente a `len (dogs)> = 3`."
   ]
  },
  {
   "cell_type": "code",
   "execution_count": 29,
   "metadata": {},
   "outputs": [
    {
     "name": "stdout",
     "output_type": "stream",
     "text": [
      "Okay, this is a reasonable number of dogs.\n"
     ]
    }
   ],
   "source": [
    "dogs = ['willie', 'hootz']\n",
    "\n",
    "if len(dogs) >= 5:\n",
    "    print(\"Holy mackerel, we might as well start a dog hostel!\")\n",
    "elif len(dogs) >= 3:\n",
    "    print(\"Wow, we have a lot of dogs here!\")\n",
    "else:\n",
    "    print(\"Okay, this is a reasonable number of dogs.\")"
   ]
  },
  {
   "cell_type": "markdown",
   "metadata": {},
   "source": [
    "En esta situación, las dos primeras pruebas fallan, por lo que se ejecuta la instrucción en la cláusula else. Ten en cuenta que esta declaración se ejecutaría incluso si no hay ningún perro:"
   ]
  },
  {
   "cell_type": "code",
   "execution_count": 30,
   "metadata": {},
   "outputs": [
    {
     "name": "stdout",
     "output_type": "stream",
     "text": [
      "Okay, this is a reasonable number of dogs.\n"
     ]
    }
   ],
   "source": [
    "dogs = []\n",
    "\n",
    "if len(dogs) >= 5:\n",
    "    print(\"Holy mackerel, we might as well start a dog hostel!\")\n",
    "elif len(dogs) >= 3:\n",
    "    print(\"Wow, we have a lot of dogs here!\")\n",
    "else:\n",
    "    print(\"Okay, this is a reasonable number of dogs.\")"
   ]
  },
  {
   "cell_type": "markdown",
   "metadata": {},
   "source": [
    "Ten en cuenta que no tiene que realizar ninguna acción al iniciar una serie de sentencias if. Simplemente no puede hacer nada en la situación de que no haya perros reemplazando la cláusula `else` con otra cláusula` elif`:"
   ]
  },
  {
   "cell_type": "code",
   "execution_count": 31,
   "metadata": {},
   "outputs": [],
   "source": [
    "dogs = []\n",
    "\n",
    "if len(dogs) >= 5:\n",
    "    print(\"Holy mackerel, we might as well start a dog hostel!\")\n",
    "elif len(dogs) >= 3:\n",
    "    print(\"Wow, we have a lot of dogs here!\")\n",
    "elif len(dogs) >= 1:\n",
    "    print(\"Okay, this is a reasonable number of dogs.\")"
   ]
  },
  {
   "cell_type": "markdown",
   "metadata": {},
   "source": [
    "En este caso, solo imprimimos un mensaje si hay al menos un perro presente. Por supuesto, puedes agregar una nueva cláusula `else` para responder a la situación en la que no hay perros:"
   ]
  },
  {
   "cell_type": "code",
   "execution_count": 32,
   "metadata": {},
   "outputs": [
    {
     "name": "stdout",
     "output_type": "stream",
     "text": [
      "I wish we had a dog here.\n"
     ]
    }
   ],
   "source": [
    "dogs = []\n",
    "\n",
    "if len(dogs) >= 5:\n",
    "    print(\"Holy mackerel, we might as well start a dog hostel!\")\n",
    "elif len(dogs) >= 3:\n",
    "    print(\"Wow, we have a lot of dogs here!\")\n",
    "elif len(dogs) >= 1:\n",
    "    print(\"Okay, this is a reasonable number of dogs.\")\n",
    "else:\n",
    "    print(\"I wish we had a dog here.\")"
   ]
  },
  {
   "cell_type": "markdown",
   "metadata": {},
   "source": [
    "Como puedes ver, la cadena if-elif-else te permite responder de manera muy específica a cualquier situación dada."
   ]
  },
  {
   "cell_type": "markdown",
   "metadata": {},
   "source": [
    "Ejercicios\n",
    "---\n",
    "#### Tres es una multitud\n",
    "- Haz una lista de nombres que incluya al menos cuatro personas.\n",
    "- Escribe una prueba de if que imprima un mensaje sobre la sala llena de gente si hay más de tres personas en su lista.\n",
    "- Modifica tu lista para que solo haya dos personas en ella. Usa uno de los métodos para eliminar personas de la lista, no solo redefina la lista.\n",
    "- Ejecute tu prueba de nuevo. No debería haber salida esta vez, porque hay menos de tres personas en la lista.\n",
    "\n",
    "#### Tres es una multitud - Parte 2\n",
    "- Guarda tu programa de * Tres es una multitud * con un nuevo nombre.\n",
    "- Agrega una declaración `else` a tus pruebas if. Si se ejecuta la instrucción `else`, pídele que imprima un mensaje que indique que la sala no está muy llena.\n",
    "\n",
    "#### Seis es una mafia\n",
    "- Guarda su programa de * Tres es una multitud - Parte 2 * con un nuevo nombre.\n",
    "- Agrega algunos nombres a su lista, de modo que haya al menos seis personas en la lista.\n",
    "- Modifica tus pruebas para que\n",
    "    - Si hay más de 5 personas, se imprime un mensaje que indica que hay una mafia en la sala.\n",
    "    - Si hay 3-5 personas, se imprime un mensaje sobre la sala llena de gente.\n",
    "    - Si hay 1 o 2 personas, se imprime un mensaje acerca de que la habitación no está llena.\n",
    "    - Si no hay personas en la habitación, se imprime un mensaje en la habitación que está vacía."
   ]
  },
  {
   "cell_type": "markdown",
   "metadata": {},
   "source": [
    "Más de una prueba que pasa\n",
    "===\n",
    "En todos los ejemplos que hemos visto hasta ahora, solo una prueba puede pasar. Tan pronto como la primera prueba pasa, el resto de las pruebas se ignoran. Esto es realmente bueno, porque permite que nuestro código se ejecute de manera más eficiente. Muchas veces, solo una condición puede ser verdadera, por lo que probar cada condición después de una pasada no tendría sentido.\n",
    "\n",
    "Hay situaciones en las que desea ejecutar una serie de pruebas, donde se ejecuta cada prueba individual. Estas son situaciones en las que cualquiera o todas las pruebas podrían pasar, y usted quiere responder a cada prueba que pasa. Consideremos el siguiente ejemplo, donde queremos saludar a cada perro que está presente:"
   ]
  },
  {
   "cell_type": "code",
   "execution_count": 33,
   "metadata": {},
   "outputs": [
    {
     "name": "stdout",
     "output_type": "stream",
     "text": [
      "Hello, Willie!\n",
      "Hello, Hootz!\n"
     ]
    }
   ],
   "source": [
    "dogs = ['willie', 'hootz']\n",
    "\n",
    "if 'willie' in dogs:\n",
    "    print(\"Hello, Willie!\")\n",
    "if 'hootz' in dogs:\n",
    "    print(\"Hello, Hootz!\")\n",
    "if 'peso' in dogs:\n",
    "    print(\"Hello, Peso!\")\n",
    "if 'monty' in dogs:\n",
    "    print(\"Hello, Monty!\")"
   ]
  },
  {
   "cell_type": "markdown",
   "metadata": {},
   "source": [
    "Si hubiéramos hecho esto utilizando una cadena if-elif-else, solo se saludaría al primer perro que esté presente:"
   ]
  },
  {
   "cell_type": "code",
   "execution_count": 34,
   "metadata": {},
   "outputs": [
    {
     "name": "stdout",
     "output_type": "stream",
     "text": [
      "Hello, Willie!\n"
     ]
    }
   ],
   "source": [
    "dogs = ['willie', 'hootz']\n",
    "\n",
    "if 'willie' in dogs:\n",
    "    print(\"Hello, Willie!\")\n",
    "elif 'hootz' in dogs:\n",
    "    print(\"Hello, Hootz!\")\n",
    "elif 'peso' in dogs:\n",
    "    print(\"Hello, Peso!\")\n",
    "elif 'monty' in dogs:\n",
    "    print(\"Hello, Monty!\")"
   ]
  },
  {
   "cell_type": "markdown",
   "metadata": {},
   "source": [
    "Por supuesto, esto podría escribirse de forma mucho más limpia utilizando listas y para bucles."
   ]
  },
  {
   "cell_type": "code",
   "execution_count": 35,
   "metadata": {},
   "outputs": [
    {
     "name": "stdout",
     "output_type": "stream",
     "text": [
      "Hello, Willie!\n",
      "Hello, Hootz!\n"
     ]
    }
   ],
   "source": [
    "dogs_we_know = ['willie', 'hootz', 'peso', 'monty', 'juno', 'turkey']\n",
    "dogs_present = ['willie', 'hootz']\n",
    "\n",
    "# Go through all the dogs that are present, and greet the dogs we know.\n",
    "for dog in dogs_present:\n",
    "    if dog in dogs_we_know:\n",
    "        print(\"Hello, %s!\" % dog.title())"
   ]
  },
  {
   "cell_type": "markdown",
   "metadata": {},
   "source": [
    "Este es el tipo de código que deberías escribir. Está bien idear un código que sea menos eficiente al principio. Cuando te des cuenta de que está escribiendo repetidamente el mismo tipo de código en un programa, mira si puede usar un bucle o una función para hacer que su código sea más eficiente."
   ]
  },
  {
   "cell_type": "markdown",
   "metadata": {},
   "source": [
    "Valores verdaderos y falsos\n",
    "===\n",
    "Cada valor puede ser evaluado como Verdadero o Falso. La regla general es que cualquier valor distinto de cero o no vacío se evaluará como Verdadero. Si alguna vez no estás seguro, puede abrir un terminal de Python y escribir dos líneas para averiguar si el valor que estás considerando es Verdadero o Falso. Mira los siguientes ejemplos, tenlos en cuenta y prueba cualquier valor que te interese."
   ]
  },
  {
   "cell_type": "code",
   "execution_count": 36,
   "metadata": {},
   "outputs": [
    {
     "name": "stdout",
     "output_type": "stream",
     "text": [
      "This evaluates to False.\n"
     ]
    }
   ],
   "source": [
    "if 0:\n",
    "    print(\"This evaluates to True.\")\n",
    "else:\n",
    "    print(\"This evaluates to False.\")"
   ]
  },
  {
   "cell_type": "code",
   "execution_count": 37,
   "metadata": {},
   "outputs": [
    {
     "name": "stdout",
     "output_type": "stream",
     "text": [
      "This evaluates to True.\n"
     ]
    }
   ],
   "source": [
    "if 1:\n",
    "    print(\"This evaluates to True.\")\n",
    "else:\n",
    "    print(\"This evaluates to False.\")"
   ]
  },
  {
   "cell_type": "code",
   "execution_count": 38,
   "metadata": {},
   "outputs": [
    {
     "name": "stdout",
     "output_type": "stream",
     "text": [
      "This evaluates to True.\n"
     ]
    }
   ],
   "source": [
    "# Arbitrary non-zero numbers evaluate to True.\n",
    "if 1253756:\n",
    "    print(\"This evaluates to True.\")\n",
    "else:\n",
    "    print(\"This evaluates to False.\")"
   ]
  },
  {
   "cell_type": "code",
   "execution_count": 39,
   "metadata": {},
   "outputs": [
    {
     "name": "stdout",
     "output_type": "stream",
     "text": [
      "This evaluates to True.\n"
     ]
    }
   ],
   "source": [
    "# Negative numbers are not zero, so they evaluate to True.\n",
    "if -1:\n",
    "    print(\"This evaluates to True.\")\n",
    "else:\n",
    "    print(\"This evaluates to False.\")"
   ]
  },
  {
   "cell_type": "code",
   "execution_count": 40,
   "metadata": {},
   "outputs": [
    {
     "name": "stdout",
     "output_type": "stream",
     "text": [
      "This evaluates to False.\n"
     ]
    }
   ],
   "source": [
    "# An empty string evaluates to False.\n",
    "if '':\n",
    "    print(\"This evaluates to True.\")\n",
    "else:\n",
    "    print(\"This evaluates to False.\")"
   ]
  },
  {
   "cell_type": "code",
   "execution_count": 41,
   "metadata": {},
   "outputs": [
    {
     "name": "stdout",
     "output_type": "stream",
     "text": [
      "This evaluates to True.\n"
     ]
    }
   ],
   "source": [
    "# Any other string, including a space, evaluates to True.\n",
    "if ' ':\n",
    "    print(\"This evaluates to True.\")\n",
    "else:\n",
    "    print(\"This evaluates to False.\")"
   ]
  },
  {
   "cell_type": "code",
   "execution_count": 42,
   "metadata": {},
   "outputs": [
    {
     "name": "stdout",
     "output_type": "stream",
     "text": [
      "This evaluates to True.\n"
     ]
    }
   ],
   "source": [
    "# Any other string, including a space, evaluates to True.\n",
    "if 'hello':\n",
    "    print(\"This evaluates to True.\")\n",
    "else:\n",
    "    print(\"This evaluates to False.\")"
   ]
  },
  {
   "cell_type": "code",
   "execution_count": 43,
   "metadata": {},
   "outputs": [
    {
     "name": "stdout",
     "output_type": "stream",
     "text": [
      "This evaluates to False.\n"
     ]
    }
   ],
   "source": [
    "# None is a special object in Python. It evaluates to False.\n",
    "if None:\n",
    "    print(\"This evaluates to True.\")\n",
    "else:\n",
    "    print(\"This evaluates to False.\")"
   ]
  },
  {
   "cell_type": "markdown",
   "metadata": {},
   "source": [
    "El 0, '' y None siempre se evalúan a False en Python cuando están después de un condicional"
   ]
  }
 ],
 "metadata": {
  "anaconda-cloud": {},
  "kernelspec": {
   "display_name": "Python 3",
   "language": "python",
   "name": "python3"
  },
  "language_info": {
   "codemirror_mode": {
    "name": "ipython",
    "version": 3
   },
   "file_extension": ".py",
   "mimetype": "text/x-python",
   "name": "python",
   "nbconvert_exporter": "python",
   "pygments_lexer": "ipython3",
   "version": "3.6.5"
  },
  "nbTranslate": {
   "displayLangs": [
    "*"
   ],
   "hotkey": "alt-t",
   "langInMainMenu": true,
   "sourceLang": "en",
   "targetLang": "fr",
   "useGoogleTranslate": true
  }
 },
 "nbformat": 4,
 "nbformat_minor": 2
}
