{
 "cells": [
  {
   "cell_type": "markdown",
   "metadata": {
    "lang": "es"
   },
   "source": [
    "Los diccionarios\n",
    "===\n",
    "Los diccionarios nos permiten almacenar bits de información conectados. Por ejemplo, puede guardar el nombre y la edad de una persona juntos."
   ]
  },
  {
   "cell_type": "markdown",
   "metadata": {
    "lang": "es"
   },
   "source": [
    "¿Qué son los diccionarios?\n",
    "===\n",
    "Los diccionarios son una forma de almacenar información que está conectada de alguna manera. Los diccionarios almacenan información en pares *valor-clave*, de modo que cualquier información en un diccionario se conecta a al menos otra información.\n",
    "\n",
    "Los diccionarios no almacenan su información en ningún orden en particular, por lo que es posible que no recupere su información en el mismo orden en que la ingresó."
   ]
  },
  {
   "cell_type": "markdown",
   "metadata": {
    "lang": "es"
   },
   "source": [
    "Sintaxis general\n",
    "---\n",
    "Un diccionario general en Python se parece a esto:"
   ]
  },
  {
   "cell_type": "code",
   "execution_count": null,
   "metadata": {},
   "outputs": [],
   "source": [
    "dictionary_name = {key_1: value_1, key_2: value_2, key_3: value_3}"
   ]
  },
  {
   "cell_type": "markdown",
   "metadata": {
    "lang": "es"
   },
   "source": [
    "Como las claves y los valores en los diccionarios pueden ser largos, a menudo escribimos solo un par clave-valor en una línea. Es posible que veas diccionarios que se parecen más a esto:"
   ]
  },
  {
   "cell_type": "code",
   "execution_count": null,
   "metadata": {},
   "outputs": [],
   "source": [
    "dictionary_name = {key_1: value_1,\n",
    "                   key_2: value_2,\n",
    "                   key_3: value_3,\n",
    "                   }"
   ]
  },
  {
   "cell_type": "markdown",
   "metadata": {
    "lang": "es"
   },
   "source": [
    "Esto es un poco más fácil de leer, especialmente si los valores son largos."
   ]
  },
  {
   "cell_type": "markdown",
   "metadata": {
    "lang": "es"
   },
   "source": [
    "Ejemplo\n",
    "---\n",
    "Un ejemplo simple implica modelar un diccionario real."
   ]
  },
  {
   "cell_type": "code",
   "execution_count": 1,
   "metadata": {},
   "outputs": [],
   "source": [
    "python_words = {'list': 'A collection of values that are not connected, but have an order.',\n",
    "                'dictionary': 'A collection of key-value pairs.',\n",
    "                'function': 'A named set of instructions that defines a set of actions in Python.',\n",
    "                }"
   ]
  },
  {
   "cell_type": "code",
   "execution_count": 6,
   "metadata": {},
   "outputs": [
    {
     "data": {
      "text/plain": [
       "'A collection of values that are not connected, but have an order.'"
      ]
     },
     "execution_count": 6,
     "metadata": {},
     "output_type": "execute_result"
    }
   ],
   "source": [
    "python_words[\"list\"]"
   ]
  },
  {
   "cell_type": "code",
   "execution_count": null,
   "metadata": {},
   "outputs": [],
   "source": []
  },
  {
   "cell_type": "markdown",
   "metadata": {
    "lang": "es"
   },
   "source": [
    "Podemos obtener elementos individuales del diccionario, dando el nombre del diccionario y la clave entre llaves:"
   ]
  },
  {
   "cell_type": "code",
   "execution_count": 7,
   "metadata": {
    "lang": "en"
   },
   "outputs": [
    {
     "name": "stdout",
     "output_type": "stream",
     "text": [
      "\n",
      "Word: list\n",
      "Meaning: A collection of values that are not connected, but have an order.\n",
      "\n",
      "Word: dictionary\n",
      "Meaning: A collection of key-value pairs.\n",
      "\n",
      "Word: function\n",
      "Meaning: A named set of instructions that defines a set of actions in Python.\n"
     ]
    }
   ],
   "source": [
    "python_words = {'list': 'A collection of values that are not connected, but have an order.',\n",
    "                'dictionary': 'A collection of key-value pairs.',\n",
    "                'function': 'A named set of instructions that defines a set of actions in Python.',\n",
    "                }\n",
    "\n",
    "print(\"\\nWord: {}\".format('list'))\n",
    "print(\"Meaning: %s\" % python_words['list'])\n",
    "      \n",
    "print(\"\\nWord: %s\" % 'dictionary')\n",
    "print(\"Meaning: %s\" % python_words['dictionary'])\n",
    "\n",
    "print(\"\\nWord: %s\" % 'function')\n",
    "print(\"Meaning: %s\" % python_words['function'])"
   ]
  },
  {
   "cell_type": "markdown",
   "metadata": {
    "lang": "es"
   },
   "source": [
    "Este código parece bastante repetitivo, y lo es. Los diccionarios tienen su propia sintaxis de bucle for, pero como hay dos tipos de información en los diccionarios, la estructura es un poco más complicada que para las listas. Aquí es cómo usar un bucle for con un diccionario:"
   ]
  },
  {
   "cell_type": "code",
   "execution_count": 8,
   "metadata": {},
   "outputs": [
    {
     "name": "stdout",
     "output_type": "stream",
     "text": [
      "\n",
      "Word: list\n",
      "Meaning: A collection of values that are not connected, but have an order.\n",
      "\n",
      "Word: dictionary\n",
      "Meaning: A collection of key-value pairs.\n",
      "\n",
      "Word: function\n",
      "Meaning: A named set of instructions that defines a set of actions in Python.\n"
     ]
    }
   ],
   "source": [
    "python_words = {'list': 'A collection of values that are not connected, but have an order.',\n",
    "                'dictionary': 'A collection of key-value pairs.',\n",
    "                'function': 'A named set of instructions that defines a set of actions in Python.',\n",
    "                }\n",
    "\n",
    "# Print out the items in the dictionary.\n",
    "for word, meaning in python_words.items():\n",
    "    print(\"\\nWord: %s\" % word)\n",
    "    print(\"Meaning: %s\" % meaning)"
   ]
  },
  {
   "cell_type": "markdown",
   "metadata": {
    "lang": "es"
   },
   "source": [
    "La salida es idéntica, pero lo hicimos en 3 líneas en lugar de 6. Si tuviéramos 100 términos en nuestro diccionario, aún podríamos imprimirlos con solo 3 líneas.\n",
    "\n",
    "La única parte difícil sobre el uso de bucles con diccionarios es averiguar cómo llamar a esas dos primeras variables. La sintaxis general para este bucle es:"
   ]
  },
  {
   "cell_type": "code",
   "execution_count": null,
   "metadata": {},
   "outputs": [],
   "source": [
    "for key_name, value_name in dictionary_name.items():\n",
    "    print(key_name) # The key is stored in whatever you called the first variable.\n",
    "    print(value_name) # The value associated with that key is stored in your second variable."
   ]
  },
  {
   "cell_type": "markdown",
   "metadata": {
    "lang": "es"
   },
   "source": [
    "Ejercicios\n",
    "---\n",
    "#### Nombres de mascotas\n",
    "- Crear un diccionario para contener información sobre mascotas. Cada clave es el nombre de un animal, y cada valor es el tipo de animal.\n",
    "    - Por ejemplo, 'perro': 'pez'\n",
    "- Ponga al menos 3 pares clave-valor en su diccionario.\n",
    "- Use un bucle for para imprimir una serie de declaraciones como \"Willie es un perro\".\n",
    "\n",
    "#### Encuestando amigos\n",
    "- Piensa en una pregunta que podrías hacerle a tus amigos. Crea un diccionario donde cada clave es el nombre de una persona y cada valor es la respuesta de esa persona a su pregunta.\n",
    "- Almacena al menos tres respuestas en tu diccionario.\n",
    "- Use un bucle for para imprimir una serie de declaraciones con el nombre de cada persona y su respuesta."
   ]
  },
  {
   "cell_type": "code",
   "execution_count": 9,
   "metadata": {},
   "outputs": [
    {
     "name": "stdout",
     "output_type": "stream",
     "text": [
      "manchas es perro\n",
      "bigotes es cucaracha\n",
      "tractor es rinoceronte\n"
     ]
    }
   ],
   "source": [
    "mascotas = {\"manchas\": \"perro\",\n",
    "            \"bigotes\": \"cucaracha\",\n",
    "            \"tractor\": \"rinoceronte\"\n",
    "            }\n",
    "\n",
    "for nombre, animal in mascotas.items():\n",
    "    print(\"{} es {}\".format(nombre, animal))"
   ]
  },
  {
   "cell_type": "code",
   "execution_count": 12,
   "metadata": {},
   "outputs": [
    {
     "name": "stdout",
     "output_type": "stream",
     "text": [
      "Jonathan tiene 24 años\n",
      "Carlos tiene 14 años\n",
      "María tiene 32 años\n"
     ]
    }
   ],
   "source": [
    "respuestas = {\"jonathan\": \"24 años\",\n",
    "              \"carlos\": \"14 años\",\n",
    "              \"maría\": \"32 años\"\n",
    "            }\n",
    "\n",
    "for nombre, edad in respuestas.items():\n",
    "    print(\"{} tiene {}\".format(nombre.title(),edad))"
   ]
  },
  {
   "cell_type": "markdown",
   "metadata": {},
   "source": [
    "## Definan una función que genere un diccionario donde las llaves son números entre 1 y 20 (incluídos) y los valores sean el cuadrado de las llaves.\n",
    "\n",
    "### La función solo debe imprimir los valores"
   ]
  },
  {
   "cell_type": "code",
   "execution_count": 13,
   "metadata": {
    "lang": "en"
   },
   "outputs": [
    {
     "data": {
      "text/plain": [
       "{'hola': 'chao'}"
      ]
     },
     "execution_count": 13,
     "metadata": {},
     "output_type": "execute_result"
    }
   ],
   "source": [
    "d = {}\n",
    "\n",
    "d[\"hola\"] = \"chao\"\n",
    "\n",
    "d\n",
    "\n",
    "# Probablemente tengan que usar dos for loops"
   ]
  },
  {
   "cell_type": "code",
   "execution_count": 17,
   "metadata": {},
   "outputs": [
    {
     "name": "stdout",
     "output_type": "stream",
     "text": [
      "1\n",
      "4\n",
      "9\n",
      "16\n",
      "25\n",
      "36\n",
      "49\n",
      "64\n",
      "81\n",
      "100\n",
      "121\n",
      "144\n",
      "169\n",
      "196\n",
      "225\n",
      "256\n",
      "289\n",
      "324\n",
      "361\n",
      "400\n"
     ]
    }
   ],
   "source": [
    "def print_dictionary():\n",
    "    d = {}\n",
    "    for i in range(1,21):\n",
    "        d[i] = i**2\n",
    "    for key, value in d.items():\n",
    "        print(value)\n",
    "        \n",
    "print_dictionary()"
   ]
  },
  {
   "cell_type": "markdown",
   "metadata": {
    "lang": "es"
   },
   "source": [
    "Operaciones comunes con diccionarios.\n",
    "===\n",
    "Hay algunas cosas comunes que querrás hacer con los diccionarios. Estos incluyen agregar nuevos pares clave-valor, modificar la información en el diccionario y eliminar elementos de los diccionarios."
   ]
  },
  {
   "cell_type": "markdown",
   "metadata": {
    "lang": "es"
   },
   "source": [
    "Añadiendo nuevos pares clave-valor\n",
    "---\n",
    "Para agregar un nuevo par clave-valor, debes dar el nombre del diccionario seguido de la nueva clave entre llaves, y establecer que sea igual al nuevo valor. Mostraremos esto comenzando con un diccionario vacío y recreando el diccionario del ejemplo anterior."
   ]
  },
  {
   "cell_type": "code",
   "execution_count": 18,
   "metadata": {},
   "outputs": [
    {
     "name": "stdout",
     "output_type": "stream",
     "text": [
      "\n",
      "Word: list\n",
      "Meaning: A collection of values that are not connected, but have an order.\n",
      "\n",
      "Word: dictionary\n",
      "Meaning: A collection of key-value pairs.\n",
      "\n",
      "Word: life meaning\n",
      "Meaning: Hard one.\n"
     ]
    }
   ],
   "source": [
    "# Create an empty dictionary.\n",
    "python_words = {} # or dict()\n",
    "\n",
    "# Fill the dictionary, pair by pair.\n",
    "python_words['list'] ='A collection of values that are not connected, but have an order.'\n",
    "python_words['dictionary'] = 'A collection of key-value pairs.'\n",
    "python_words['life meaning'] = 'Hard one.'\n",
    "\n",
    "# Print out the items in the dictionary.\n",
    "for word, meaning in python_words.items():\n",
    "    print(\"\\nWord: {}\".format(word))\n",
    "    print(\"Meaning: {}\".format(meaning))"
   ]
  },
  {
   "cell_type": "markdown",
   "metadata": {
    "lang": "es"
   },
   "source": [
    "Modificar valores en un diccionario\n",
    "---\n",
    "En algún momento, es posible que desees modificar uno de los valores de su diccionario. Modificar un valor en un diccionario es bastante similar a modificar un elemento en una lista. Das el nombre del diccionario y luego la clave entre llaves, y establece que es igual al nuevo valor."
   ]
  },
  {
   "cell_type": "code",
   "execution_count": 19,
   "metadata": {},
   "outputs": [
    {
     "name": "stdout",
     "output_type": "stream",
     "text": [
      "dictionary: A collection of key-value pairs.\n",
      "\n",
      "dictionary: A collection of key-value pairs. Each key can be used to access its corresponding value.\n"
     ]
    }
   ],
   "source": [
    "python_words = {'list': 'A collection of values that are not connected, but have an order.',\n",
    "                'dictionary': 'A collection of key-value pairs.',\n",
    "                'function': 'A named set of instructions that defines a set of actions in Python.',\n",
    "                }\n",
    "\n",
    "print('dictionary: ' + python_words['dictionary'])\n",
    "    \n",
    "# Clarify one of the meanings.\n",
    "python_words['dictionary'] = 'A collection of key-value pairs. Each key can be used to access its corresponding value.'\n",
    "\n",
    "print('\\ndictionary: ' + python_words['dictionary'])"
   ]
  },
  {
   "cell_type": "markdown",
   "metadata": {
    "lang": "es"
   },
   "source": [
    "Eliminando pares clave-valor\n",
    "---\n",
    "Es posible que desees eliminar algunos pares clave-valor de uno de sus diccionarios en algún momento. Puedes hacer esto usando el mismo comando `del` que aprendiste a usar con las listas. Para eliminar un par clave-valor, debe dar el comando `del`, seguido del nombre del diccionario, con la clave que desea eliminar. Esto elimina la clave y el valor como un par."
   ]
  },
  {
   "cell_type": "code",
   "execution_count": 20,
   "metadata": {},
   "outputs": [
    {
     "name": "stdout",
     "output_type": "stream",
     "text": [
      "\n",
      "\n",
      "These are the Python words I know:\n",
      "\n",
      "Word: list\n",
      "Meaning: A collection of values that are not connected, but have an order.\n",
      "\n",
      "Word: dictionary\n",
      "Meaning: A collection of key-value pairs.\n",
      "\n",
      "Word: function\n",
      "Meaning: A named set of instructions that defines a set of actions in Python.\n",
      "\n",
      "\n",
      "These are the Python words I know:\n",
      "\n",
      "Word: dictionary\n",
      "Meaning: A collection of key-value pairs.\n",
      "\n",
      "Word: function\n",
      "Meaning: A named set of instructions that defines a set of actions in Python.\n"
     ]
    }
   ],
   "source": [
    "python_words = {'list': 'A collection of values that are not connected, but have an order.',\n",
    "                'dictionary': 'A collection of key-value pairs.',\n",
    "                'function': 'A named set of instructions that defines a set of actions in Python.',\n",
    "                }\n",
    "\n",
    "# Show the current set of words and meanings.\n",
    "print(\"\\n\\nThese are the Python words I know:\")\n",
    "for word, meaning in python_words.items():\n",
    "    print(\"\\nWord: %s\" % word)\n",
    "    print(\"Meaning: %s\" % meaning)\n",
    "    \n",
    "# Remove the word 'list' and its meaning.\n",
    "del python_words['list']\n",
    "\n",
    "# Show the current set of words and meanings.\n",
    "print(\"\\n\\nThese are the Python words I know:\")\n",
    "for word, meaning in python_words.items():\n",
    "    print(\"\\nWord: %s\" % word)\n",
    "    print(\"Meaning: %s\" % meaning)"
   ]
  },
  {
   "cell_type": "markdown",
   "metadata": {
    "lang": "es"
   },
   "source": [
    "Si fueras a trabajar con este código, seguramente querría poner el código para mostrar el diccionario en una función. Veamos cómo se ve esto:"
   ]
  },
  {
   "cell_type": "code",
   "execution_count": 21,
   "metadata": {},
   "outputs": [
    {
     "name": "stdout",
     "output_type": "stream",
     "text": [
      "\n",
      "\n",
      "These are the Python words I know:\n",
      "\n",
      "Word: list\n",
      "Meaning: A collection of values that are not connected, but have an order.\n",
      "\n",
      "Word: dictionary\n",
      "Meaning: A collection of key-value pairs.\n",
      "\n",
      "Word: function\n",
      "Meaning: A named set of instructions that defines a set of actions in Python.\n",
      "\n",
      "\n",
      "These are the Python words I know:\n",
      "\n",
      "Word: dictionary\n",
      "Meaning: A collection of key-value pairs.\n",
      "\n",
      "Word: function\n",
      "Meaning: A named set of instructions that defines a set of actions in Python.\n"
     ]
    }
   ],
   "source": [
    "###highlight=[2,3,4,5,6,7,8,16,21]\n",
    "def show_words_meanings(python_words):\n",
    "    # This function takes in a dictionary of python words and meanings,\n",
    "    #  and prints out each word with its meaning.\n",
    "    print(\"\\n\\nThese are the Python words I know:\")\n",
    "    for word, meaning in python_words.items():\n",
    "        print(\"\\nWord: %s\" % word)\n",
    "        print(\"Meaning: %s\" % meaning)\n",
    "        \n",
    "\n",
    "python_words = {'list': 'A collection of values that are not connected, but have an order.',\n",
    "                'dictionary': 'A collection of key-value pairs.',\n",
    "                'function': 'A named set of instructions that defines a set of actions in Python.',\n",
    "                }\n",
    "\n",
    "show_words_meanings(python_words)\n",
    "    \n",
    "# Remove the word 'list' and its meaning.\n",
    "del python_words['list']\n",
    "\n",
    "show_words_meanings(python_words)"
   ]
  },
  {
   "cell_type": "markdown",
   "metadata": {
    "lang": "es"
   },
   "source": [
    "Mientras tengamos una buena función de limpieza con la que trabajar, vamos a limpiar un poco nuestra salida:"
   ]
  },
  {
   "cell_type": "code",
   "execution_count": 22,
   "metadata": {},
   "outputs": [
    {
     "name": "stdout",
     "output_type": "stream",
     "text": [
      "\n",
      "\n",
      "These are the Python words I know:\n",
      "\n",
      "list: A collection of values that are not connected, but have an order.\n",
      "\n",
      "dictionary: A collection of key-value pairs.\n",
      "\n",
      "function: A named set of instructions that defines a set of actions in Python.\n",
      "\n",
      "\n",
      "These are the Python words I know:\n",
      "\n",
      "dictionary: A collection of key-value pairs.\n",
      "\n",
      "function: A named set of instructions that defines a set of actions in Python.\n"
     ]
    }
   ],
   "source": [
    "###highlight=[7]\n",
    "def show_words_meanings(python_words):\n",
    "    # This function takes in a dictionary of python words and meanings,\n",
    "    #  and prints out each word with its meaning.\n",
    "    print(\"\\n\\nThese are the Python words I know:\")\n",
    "    for word, meaning in python_words.items():\n",
    "        print(\"\\n%s: %s\" % (word, meaning))\n",
    "        \n",
    "\n",
    "python_words = {'list': 'A collection of values that are not connected, but have an order.',\n",
    "                'dictionary': 'A collection of key-value pairs.',\n",
    "                'function': 'A named set of instructions that defines a set of actions in Python.',\n",
    "                }\n",
    "\n",
    "show_words_meanings(python_words)\n",
    "    \n",
    "# Remove the word 'list' and its meaning.\n",
    "del python_words['list']\n",
    "\n",
    "show_words_meanings(python_words)"
   ]
  },
  {
   "cell_type": "markdown",
   "metadata": {},
   "source": [
    "This is much more realistic code."
   ]
  },
  {
   "cell_type": "markdown",
   "metadata": {
    "lang": "es"
   },
   "source": [
    "Modificar claves en un diccionario.\n",
    "---\n",
    "Modificar un valor en un diccionario fue sencillo, porque nada más depende del valor. Modificar una clave es un poco más difícil, porque cada tecla se usa para desbloquear un valor. Podemos cambiar una llave en dos pasos:\n",
    "\n",
    "- Crear una nueva clave y copiar el valor en la nueva clave.\n",
    "- Eliminar la clave anterior, que también elimina el valor anterior.\n",
    "\n",
    "Usaremos un diccionario con un solo par clave-valor, para mantener las cosas simples."
   ]
  },
  {
   "cell_type": "code",
   "execution_count": 24,
   "metadata": {},
   "outputs": [
    {
     "data": {
      "text/plain": [
       "{'list': 'A collection of values that are not connected, but have an order.'}"
      ]
     },
     "execution_count": 24,
     "metadata": {},
     "output_type": "execute_result"
    }
   ],
   "source": [
    "python_words = {'lisst': 'A collection of values that are not connected, but have an order.'}\n",
    "\n",
    "python_words[\"list\"] = python_words[\"lisst\"]\n",
    "del python_words['lisst']\n",
    "\n",
    "python_words"
   ]
  },
  {
   "cell_type": "code",
   "execution_count": 25,
   "metadata": {},
   "outputs": [
    {
     "name": "stdout",
     "output_type": "stream",
     "text": [
      "{'list': 'A collection of values that are not connected, but have an order.'}\n"
     ]
    }
   ],
   "source": [
    "# We have a spelling mistake!\n",
    "python_words = {'lisst': 'A collection of values that are not connected, but have an order.'}\n",
    "\n",
    "# Create a new, correct key, and connect it to the old value.\n",
    "#  Then delete the old key.\n",
    "python_words['list'] = python_words['lisst']\n",
    "del python_words['lisst']\n",
    "\n",
    "# Print the dictionary, to show that the key has changed.\n",
    "print(python_words)"
   ]
  },
  {
   "cell_type": "markdown",
   "metadata": {
    "lang": "es"
   },
   "source": [
    "Bucleando a través de un diccionario\n",
    "===\n",
    "Dado que los diccionarios realmente tratan sobre la conexión de bits de información, a menudo los usarás de las formas descritas anteriormente, donde agregas pares de clave-valor cada vez que recibe información nueva, y luego recupera los pares de clave-valor que le interesan. A veces, sin embargo, querrás recorrer todo el diccionario. Hay varias formas de hacerlo:\n",
    "\n",
    "- Puedes recorrer todos los pares clave-valor;\n",
    "- Puedes recorrer las teclas y extraer los valores de las teclas que le interesan;\n",
    "- Puedes recorrer los valores."
   ]
  },
  {
   "cell_type": "markdown",
   "metadata": {
    "lang": "es"
   },
   "source": [
    "Recorriendo todos los pares clave-valor\n",
    "---\n",
    "Este es el tipo de bucle que se mostró en el primer ejemplo. Así es como se ve este bucle, en un formato general:"
   ]
  },
  {
   "cell_type": "code",
   "execution_count": 26,
   "metadata": {},
   "outputs": [
    {
     "name": "stdout",
     "output_type": "stream",
     "text": [
      "\n",
      "Key: key_1\n",
      "Value: value_1\n",
      "\n",
      "Key: key_2\n",
      "Value: value_2\n",
      "\n",
      "Key: key_3\n",
      "Value: value_3\n"
     ]
    }
   ],
   "source": [
    "my_dict = {'key_1': 'value_1',\n",
    "    'key_2': 'value_2',\n",
    "    'key_3': 'value_3',\n",
    "    }\n",
    "\n",
    "for key, value in my_dict.items():\n",
    "    print('\\nKey: %s' % key)\n",
    "    print('Value: %s' % value)"
   ]
  },
  {
   "cell_type": "markdown",
   "metadata": {
    "lang": "es"
   },
   "source": [
    "Esto funciona porque el método `.items ()` extrae todos los pares clave-valor de un diccionario en una lista de tuplas:"
   ]
  },
  {
   "cell_type": "code",
   "execution_count": 27,
   "metadata": {},
   "outputs": [
    {
     "name": "stdout",
     "output_type": "stream",
     "text": [
      "dict_items([('key_1', 'value_1'), ('key_2', 'value_2'), ('key_3', 'value_3')])\n"
     ]
    }
   ],
   "source": [
    "my_dict = {'key_1': 'value_1',\n",
    "    'key_2': 'value_2',\n",
    "    'key_3': 'value_3',\n",
    "    }\n",
    "\n",
    "print(my_dict.items())"
   ]
  },
  {
   "cell_type": "markdown",
   "metadata": {
    "lang": "es"
   },
   "source": [
    "La sintaxis `for key, value in my_dict.items():` hace el trabajo de recorrer en bucle a través de esta lista de tuplas, y extraer el primer y segundo elemento de cada tupla para nosotros.\n",
    "\n",
    "No hay nada especial en ninguno de estos nombres de variables, por lo que el código Python que usa esta sintaxis se vuelve realmente legible. En lugar de crear un nuevo ejemplo de este bucle, veamos nuevamente el ejemplo original para ver esto en un contexto significativo:"
   ]
  },
  {
   "cell_type": "code",
   "execution_count": 28,
   "metadata": {},
   "outputs": [
    {
     "name": "stdout",
     "output_type": "stream",
     "text": [
      "\n",
      "Word: list\n",
      "Meaning: A collection of values that are not connected, but have an order.\n",
      "\n",
      "Word: dictionary\n",
      "Meaning: A collection of key-value pairs.\n",
      "\n",
      "Word: function\n",
      "Meaning: A named set of instructions that defines a set of actions in Python.\n"
     ]
    }
   ],
   "source": [
    "python_words = {'list': 'A collection of values that are not connected, but have an order.',\n",
    "                'dictionary': 'A collection of key-value pairs.',\n",
    "                'function': 'A named set of instructions that defines a set of actions in Python.',\n",
    "                }\n",
    "\n",
    "for word, meaning in python_words.items():\n",
    "    print(\"\\nWord: %s\" % word)\n",
    "    print(\"Meaning: %s\" % meaning)"
   ]
  },
  {
   "cell_type": "markdown",
   "metadata": {
    "lang": "es"
   },
   "source": [
    "Recorriendo a través de todas las claves en un diccionario\n",
    "---\n",
    "Python proporciona una sintaxis clara para recorrer en bucle solo las teclas de un diccionario:"
   ]
  },
  {
   "cell_type": "code",
   "execution_count": 29,
   "metadata": {},
   "outputs": [
    {
     "name": "stdout",
     "output_type": "stream",
     "text": [
      "Key: key_1\n",
      "Key: key_2\n",
      "Key: key_3\n"
     ]
    }
   ],
   "source": [
    "my_dict = {'key_1': 'value_1',\n",
    "    'key_2': 'value_2',\n",
    "    'key_3': 'value_3',\n",
    "    }\n",
    "\n",
    "for key in my_dict.keys():\n",
    "    print('Key: %s' % key)"
   ]
  },
  {
   "cell_type": "markdown",
   "metadata": {
    "lang": "es"
   },
   "source": [
    "Este es en realidad el comportamiento predeterminado de recorrer el propio diccionario. Así que puedes dejar de lado la parte `.keys ()` y obtener el mismo comportamiento:"
   ]
  },
  {
   "cell_type": "code",
   "execution_count": 30,
   "metadata": {},
   "outputs": [
    {
     "name": "stdout",
     "output_type": "stream",
     "text": [
      "Key: key_1\n",
      "Key: key_2\n",
      "Key: key_3\n"
     ]
    }
   ],
   "source": [
    "###highlight=[7]\n",
    "my_dict = {'key_1': 'value_1',\n",
    "    'key_2': 'value_2',\n",
    "    'key_3': 'value_3',\n",
    "    }\n",
    "\n",
    "for key in my_dict:\n",
    "    print('Key: %s' % key)"
   ]
  },
  {
   "cell_type": "markdown",
   "metadata": {
    "lang": "es"
   },
   "source": [
    "La única ventaja de usar `.keys ()` en el código es un poco de claridad. Pero cualquiera que conozca Python razonablemente bien va a reconocer lo que hace la segunda versión. En el resto de nuestro código, omitiremos `.keys ()` cuando queramos este comportamiento.\n",
    "\n",
    "Puede extraer el valor de cualquier clave que le interese dentro de su bucle, usando la notación estándar para acceder a un valor de diccionario desde una clave:"
   ]
  },
  {
   "cell_type": "code",
   "execution_count": 31,
   "metadata": {},
   "outputs": [
    {
     "name": "stdout",
     "output_type": "stream",
     "text": [
      "Key: key_1\n",
      "Key: key_2\n",
      "  The value for key_2 is value_2.\n",
      "Key: key_3\n"
     ]
    }
   ],
   "source": [
    "###highlight=[9,10]\n",
    "my_dict = {'key_1': 'value_1',\n",
    "    'key_2': 'value_2',\n",
    "    'key_3': 'value_3',\n",
    "    }\n",
    "\n",
    "for key in my_dict:\n",
    "    print('Key: %s' % key)\n",
    "    if key == 'key_2':\n",
    "        print(\"  The value for key_2 is %s.\" % my_dict[key])"
   ]
  },
  {
   "cell_type": "markdown",
   "metadata": {
    "lang": "es"
   },
   "source": [
    "Vamos a mostrar cómo podemos usar esto en nuestro programa de palabras de Python. Este tipo de bucle proporciona una forma sencilla de mostrar solo las palabras en el diccionario:"
   ]
  },
  {
   "cell_type": "code",
   "execution_count": 32,
   "metadata": {},
   "outputs": [
    {
     "name": "stdout",
     "output_type": "stream",
     "text": [
      "The following Python words have been defined:\n",
      "- list\n",
      "- dictionary\n",
      "- function\n"
     ]
    }
   ],
   "source": [
    "python_words = {'list': 'A collection of values that are not connected, but have an order.',\n",
    "                'dictionary': 'A collection of key-value pairs.',\n",
    "                'function': 'A named set of instructions that defines a set of actions in Python.',\n",
    "                }\n",
    "\n",
    "# Show the words that are currently in the dictionary.\n",
    "print(\"The following Python words have been defined:\")\n",
    "for word in python_words:\n",
    "    print(\"- %s\" % word)"
   ]
  },
  {
   "cell_type": "markdown",
   "metadata": {
    "lang": "es"
   },
   "source": [
    "Podemos extender esto ligeramente para hacer un programa que le permita buscar palabras. Primero dejamos que el usuario elija una palabra. Cuando el usuario ha elegido una palabra, obtenemos el significado de esa palabra y la mostramos:"
   ]
  },
  {
   "cell_type": "code",
   "execution_count": 34,
   "metadata": {},
   "outputs": [
    {
     "name": "stdout",
     "output_type": "stream",
     "text": [
      "Hola\n",
      "El usuario escribió Hola\n"
     ]
    }
   ],
   "source": [
    "a = input()\n",
    "print(\"El usuario escribió {}\".format(a))"
   ]
  },
  {
   "cell_type": "code",
   "execution_count": 36,
   "metadata": {},
   "outputs": [
    {
     "name": "stdout",
     "output_type": "stream",
     "text": [
      "The following Python words have been defined:\n",
      "- list\n",
      "- dictionary\n",
      "- function\n",
      "\n",
      "What word would you like to learn about? tuple\n"
     ]
    },
    {
     "ename": "KeyError",
     "evalue": "'tuple'",
     "output_type": "error",
     "traceback": [
      "\u001b[0;31m---------------------------------------------------------------------------\u001b[0m",
      "\u001b[0;31mKeyError\u001b[0m                                  Traceback (most recent call last)",
      "\u001b[0;32m<ipython-input-36-5ea8c2820067>\u001b[0m in \u001b[0;36m<module>\u001b[0;34m\u001b[0m\n\u001b[1;32m     12\u001b[0m \u001b[0;31m# Allow the user to choose a word, and then display the meaning for that word.\u001b[0m\u001b[0;34m\u001b[0m\u001b[0;34m\u001b[0m\u001b[0m\n\u001b[1;32m     13\u001b[0m \u001b[0mrequested_word\u001b[0m \u001b[0;34m=\u001b[0m \u001b[0minput\u001b[0m\u001b[0;34m(\u001b[0m\u001b[0;34m\"\\nWhat word would you like to learn about? \"\u001b[0m\u001b[0;34m)\u001b[0m\u001b[0;34m\u001b[0m\u001b[0m\n\u001b[0;32m---> 14\u001b[0;31m \u001b[0mprint\u001b[0m\u001b[0;34m(\u001b[0m\u001b[0;34m\"\\n%s: %s\"\u001b[0m \u001b[0;34m%\u001b[0m \u001b[0;34m(\u001b[0m\u001b[0mrequested_word\u001b[0m\u001b[0;34m,\u001b[0m \u001b[0mpython_words\u001b[0m\u001b[0;34m[\u001b[0m\u001b[0mrequested_word\u001b[0m\u001b[0;34m]\u001b[0m\u001b[0;34m)\u001b[0m\u001b[0;34m)\u001b[0m\u001b[0;34m\u001b[0m\u001b[0m\n\u001b[0m",
      "\u001b[0;31mKeyError\u001b[0m: 'tuple'"
     ]
    }
   ],
   "source": [
    "###highlight=[12,13,14]\n",
    "python_words = {'list': 'A collection of values that are not connected, but have an order.',\n",
    "                'dictionary': 'A collection of key-value pairs.',\n",
    "                'function': 'A named set of instructions that defines a set of actions in Python.',\n",
    "                }\n",
    "\n",
    "# Show the words that are currently in the dictionary.\n",
    "print(\"The following Python words have been defined:\")\n",
    "for word in python_words:\n",
    "    print(\"- %s\" % word)\n",
    "    \n",
    "# Allow the user to choose a word, and then display the meaning for that word.\n",
    "requested_word = input(\"\\nWhat word would you like to learn about? \")\n",
    "print(\"\\n%s: %s\" % (requested_word, python_words[requested_word]))"
   ]
  },
  {
   "cell_type": "markdown",
   "metadata": {
    "lang": "es"
   },
   "source": [
    "Esto permite al usuario seleccionar una palabra que se ha definido. Si encerramos la parte de entrada del programa en un bucle while, el usuario puede ver todas las definiciones que desee:"
   ]
  },
  {
   "cell_type": "code",
   "execution_count": 37,
   "metadata": {},
   "outputs": [
    {
     "name": "stdout",
     "output_type": "stream",
     "text": [
      "The following Python words have been defined:\n",
      "- list\n",
      "- dictionary\n",
      "- function\n",
      "\n",
      "What word would you like to learn about? (or 'quit') list\n",
      "\n",
      "  list: A collection of values that are not connected, but have an order.\n",
      "\n",
      "What word would you like to learn about? (or 'quit') function\n",
      "\n",
      "  function: A named set of instructions that defines a set of actions in Python.\n",
      "\n",
      "What word would you like to learn about? (or 'quit') tuple\n",
      "\n",
      "  Sorry, I don't know that word.\n",
      "\n",
      "What word would you like to learn about? (or 'quit') list\n",
      "\n",
      "  list: A collection of values that are not connected, but have an order.\n",
      "\n",
      "What word would you like to learn about? (or 'quit') dictionary\n",
      "\n",
      "  dictionary: A collection of key-value pairs.\n",
      "\n",
      "What word would you like to learn about? (or 'quit') tuple\n",
      "\n",
      "  Sorry, I don't know that word.\n",
      "\n",
      "What word would you like to learn about? (or 'quit') quit\n",
      "\n",
      "  Sorry, I don't know that word.\n"
     ]
    }
   ],
   "source": [
    "###highlight=[12,13,14,15,16,17,18,19,20]\n",
    "python_words = {'list': 'A collection of values that are not connected, but have an order.',\n",
    "                'dictionary': 'A collection of key-value pairs.',\n",
    "                'function': 'A named set of instructions that defines a set of actions in Python.',\n",
    "                }\n",
    "\n",
    "# Show the words that are currently in the dictionary.\n",
    "print(\"The following Python words have been defined:\")\n",
    "for word in python_words:\n",
    "    print(\"- %s\" % word)\n",
    "\n",
    "requested_word = ''\n",
    "while requested_word != 'quit':\n",
    "    # Allow the user to choose a word, and then display the meaning for that word.\n",
    "    requested_word = input(\"\\nWhat word would you like to learn about? (or 'quit') \")\n",
    "    if requested_word in python_words.keys():\n",
    "        print(\"\\n  %s: %s\" % (requested_word, python_words[requested_word]))\n",
    "    else:\n",
    "        # Handle misspellings, and words not yet stored.\n",
    "        print(\"\\n  Sorry, I don't know that word.\")"
   ]
  },
  {
   "cell_type": "markdown",
   "metadata": {
    "lang": "es"
   },
   "source": [
    "Esto permite que el usuario solicite tantos significados como desee, pero toma la palabra \"quit\" como palabra solicitada. Agreguemos una cláusula `elif` para limpiar este comportamiento:"
   ]
  },
  {
   "cell_type": "code",
   "execution_count": 38,
   "metadata": {},
   "outputs": [
    {
     "name": "stdout",
     "output_type": "stream",
     "text": [
      "The following Python words have been defined:\n",
      "- list\n",
      "- dictionary\n",
      "- function\n",
      "\n",
      "What word would you like to learn about? (or 'quit') list\n",
      "\n",
      "  list: A collection of values that are not connected, but have an order.\n",
      "\n",
      "What word would you like to learn about? (or 'quit') dictionary\n",
      "\n",
      "  dictionary: A collection of key-value pairs.\n",
      "\n",
      "What word would you like to learn about? (or 'quit') tuple\n",
      "\n",
      "  Sorry, I don't know that word.\n",
      "\n",
      "What word would you like to learn about? (or 'quit') quit\n",
      "\n",
      "  Bye!\n"
     ]
    }
   ],
   "source": [
    "###highlight=[16,17,18,19,20,21,22,23,24]\n",
    "python_words = {'list': 'A collection of values that are not connected, but have an order.',\n",
    "                'dictionary': 'A collection of key-value pairs.',\n",
    "                'function': 'A named set of instructions that defines a set of actions in Python.',\n",
    "                }\n",
    "\n",
    "# Show the words that are currently in the dictionary.\n",
    "print(\"The following Python words have been defined:\")\n",
    "for word in python_words:\n",
    "    print(\"- %s\" % word)\n",
    "\n",
    "requested_word = ''\n",
    "while requested_word != 'quit':\n",
    "    # Allow the user to choose a word, and then display the meaning for that word.\n",
    "    requested_word = input(\"\\nWhat word would you like to learn about? (or 'quit') \")\n",
    "    if requested_word in python_words.keys():\n",
    "        # This is a word we know, so show the meaning.\n",
    "        print(\"\\n  %s: %s\" % (requested_word, python_words[requested_word]))\n",
    "    elif requested_word != 'quit':\n",
    "        # This is not in python_words, and it's not 'quit'.\n",
    "        print(\"\\n  Sorry, I don't know that word.\")\n",
    "    else:\n",
    "        # The word is quit.\n",
    "        print(\"\\n  Bye!\")"
   ]
  },
  {
   "cell_type": "markdown",
   "metadata": {
    "lang": "es"
   },
   "source": [
    "Recorriendo todos los valores en un diccionario\n",
    "---\n",
    "Python proporciona una sintaxis sencilla para recorrer en bucle todos los valores de un diccionario, así como:"
   ]
  },
  {
   "cell_type": "code",
   "execution_count": 39,
   "metadata": {},
   "outputs": [
    {
     "name": "stdout",
     "output_type": "stream",
     "text": [
      "Value: value_1\n",
      "Value: value_2\n",
      "Value: value_3\n"
     ]
    }
   ],
   "source": [
    "my_dict = {'key_1': 'value_1',\n",
    "    'key_2': 'value_2',\n",
    "    'key_3': 'value_3',\n",
    "    }\n",
    "\n",
    "for value in my_dict.values():\n",
    "    print('Value: %s' % value)"
   ]
  },
  {
   "cell_type": "markdown",
   "metadata": {
    "lang": "es"
   },
   "source": [
    "Podemos usar esta sintaxis de bucle para divertirnos un poco con el ejemplo del diccionario, haciendo un pequeño programa de preguntas. El programa mostrará un significado y le pedirá al usuario que adivine la palabra que coincide con ese significado. Comencemos mostrando todos los significados en el diccionario:"
   ]
  },
  {
   "cell_type": "code",
   "execution_count": 40,
   "metadata": {},
   "outputs": [
    {
     "name": "stdout",
     "output_type": "stream",
     "text": [
      "Meaning: A collection of values that are not connected, but have an order.\n",
      "Meaning: A collection of key-value pairs.\n",
      "Meaning: A named set of instructions that defines a set of actions in Python.\n"
     ]
    }
   ],
   "source": [
    "python_words = {'list': 'A collection of values that are not connected, but have an order.',\n",
    "                'dictionary': 'A collection of key-value pairs.',\n",
    "                'function': 'A named set of instructions that defines a set of actions in Python.',\n",
    "                }\n",
    "\n",
    "for meaning in python_words.values():\n",
    "    print(\"Meaning: %s\" % meaning)"
   ]
  },
  {
   "cell_type": "markdown",
   "metadata": {
    "lang": "es"
   },
   "source": [
    "Ahora podemos agregar un mensaje después de cada significado, pidiéndole al usuario que adivine la palabra:"
   ]
  },
  {
   "cell_type": "code",
   "execution_count": 41,
   "metadata": {},
   "outputs": [
    {
     "name": "stdout",
     "output_type": "stream",
     "text": [
      "Please write something: Favio\n"
     ]
    }
   ],
   "source": [
    "a = input(\"Please write something: \")"
   ]
  },
  {
   "cell_type": "code",
   "execution_count": 42,
   "metadata": {},
   "outputs": [
    {
     "data": {
      "text/plain": [
       "'Favio'"
      ]
     },
     "execution_count": 42,
     "metadata": {},
     "output_type": "execute_result"
    }
   ],
   "source": [
    "a"
   ]
  },
  {
   "cell_type": "code",
   "execution_count": 44,
   "metadata": {},
   "outputs": [
    {
     "name": "stdout",
     "output_type": "stream",
     "text": [
      "\n",
      "Meaning: A collection of values that are not connected, but have an order.\n",
      "What word do you think this is? tuple\n"
     ]
    },
    {
     "ename": "KeyError",
     "evalue": "'tuple'",
     "output_type": "error",
     "traceback": [
      "\u001b[0;31m---------------------------------------------------------------------------\u001b[0m",
      "\u001b[0;31mKeyError\u001b[0m                                  Traceback (most recent call last)",
      "\u001b[0;32m<ipython-input-44-78598d732953>\u001b[0m in \u001b[0;36m<module>\u001b[0;34m\u001b[0m\n\u001b[1;32m     13\u001b[0m \u001b[0;34m\u001b[0m\u001b[0m\n\u001b[1;32m     14\u001b[0m     \u001b[0;31m# The guess is correct if the guessed word's meaning matches the current meaning.\u001b[0m\u001b[0;34m\u001b[0m\u001b[0;34m\u001b[0m\u001b[0m\n\u001b[0;32m---> 15\u001b[0;31m     \u001b[0;32mif\u001b[0m \u001b[0mpython_words\u001b[0m\u001b[0;34m[\u001b[0m\u001b[0mguessed_word\u001b[0m\u001b[0;34m]\u001b[0m \u001b[0;34m==\u001b[0m \u001b[0mmeaning\u001b[0m\u001b[0;34m:\u001b[0m\u001b[0;34m\u001b[0m\u001b[0m\n\u001b[0m\u001b[1;32m     16\u001b[0m         \u001b[0mprint\u001b[0m\u001b[0;34m(\u001b[0m\u001b[0;34m\"You got it!\"\u001b[0m\u001b[0;34m)\u001b[0m\u001b[0;34m\u001b[0m\u001b[0m\n\u001b[1;32m     17\u001b[0m     \u001b[0;32melse\u001b[0m\u001b[0;34m:\u001b[0m\u001b[0;34m\u001b[0m\u001b[0m\n",
      "\u001b[0;31mKeyError\u001b[0m: 'tuple'"
     ]
    }
   ],
   "source": [
    "###highlight=[12,13,14,15,16,17,18]\n",
    "python_words = {'list': 'A collection of values that are not connected, but have an order.',\n",
    "                'dictionary': 'A collection of key-value pairs.',\n",
    "                'function': 'A named set of instructions that defines a set of actions in Python.',\n",
    "                }\n",
    "\n",
    "# Print each meaning, one at a time, and ask the user\n",
    "#  what word they think it is.\n",
    "for meaning in python_words.values():\n",
    "    print(\"\\nMeaning: %s\" % meaning)\n",
    "    \n",
    "    guessed_word = input(\"What word do you think this is? \")\n",
    "    \n",
    "    # The guess is correct if the guessed word's meaning matches the current meaning.\n",
    "    if python_words[guessed_word] == meaning:\n",
    "        print(\"You got it!\")\n",
    "    else:\n",
    "        print(\"Sorry, that's just not the right word.\")"
   ]
  },
  {
   "cell_type": "markdown",
   "metadata": {
    "lang": "es"
   },
   "source": [
    "Esto está empezando a funcionar, pero podemos ver en la salida que el usuario no tiene la oportunidad de hacer una segunda suposición si adivina mal por algún significado. Podemos usar un bucle while alrededor del código de adivinación, para permitir que el usuario adivine hasta que lo haga correctamente:"
   ]
  },
  {
   "cell_type": "code",
   "execution_count": 48,
   "metadata": {},
   "outputs": [
    {
     "name": "stdout",
     "output_type": "stream",
     "text": [
      "\n",
      "Meaning: A collection of values that are not connected, but have an order.\n",
      "\n",
      "What word do you think this is? function\n",
      "Sorry, that's just not the right word.\n",
      "\n",
      "What word do you think this is? function\n",
      "Sorry, that's just not the right word.\n",
      "\n",
      "What word do you think this is? function\n",
      "Sorry, that's just not the right word.\n",
      "\n",
      "What word do you think this is? j\n"
     ]
    },
    {
     "ename": "KeyError",
     "evalue": "'j'",
     "output_type": "error",
     "traceback": [
      "\u001b[0;31m---------------------------------------------------------------------------\u001b[0m",
      "\u001b[0;31mKeyError\u001b[0m                                  Traceback (most recent call last)",
      "\u001b[0;32m<ipython-input-48-9037b8643daf>\u001b[0m in \u001b[0;36m<module>\u001b[0;34m\u001b[0m\n\u001b[1;32m     16\u001b[0m \u001b[0;34m\u001b[0m\u001b[0m\n\u001b[1;32m     17\u001b[0m         \u001b[0;31m# The guess is correct if the guessed word's meaning matches the current meaning.\u001b[0m\u001b[0;34m\u001b[0m\u001b[0;34m\u001b[0m\u001b[0m\n\u001b[0;32m---> 18\u001b[0;31m         \u001b[0;32mif\u001b[0m \u001b[0mpython_words\u001b[0m\u001b[0;34m[\u001b[0m\u001b[0mguessed_word\u001b[0m\u001b[0;34m]\u001b[0m \u001b[0;34m==\u001b[0m \u001b[0mmeaning\u001b[0m\u001b[0;34m:\u001b[0m\u001b[0;34m\u001b[0m\u001b[0m\n\u001b[0m\u001b[1;32m     19\u001b[0m             \u001b[0mprint\u001b[0m\u001b[0;34m(\u001b[0m\u001b[0;34m\"You got it!\"\u001b[0m\u001b[0;34m)\u001b[0m\u001b[0;34m\u001b[0m\u001b[0m\n\u001b[1;32m     20\u001b[0m             \u001b[0mcorrect\u001b[0m \u001b[0;34m=\u001b[0m \u001b[0;32mTrue\u001b[0m\u001b[0;34m\u001b[0m\u001b[0m\n",
      "\u001b[0;31mKeyError\u001b[0m: 'j'"
     ]
    }
   ],
   "source": [
    "###highlight=[12,13,14,15,16,17,18,19,20,21,22]\n",
    "python_words = {'list': 'A collection of values that are not connected, but have an order.',\n",
    "                'dictionary': 'A collection of key-value pairs.',\n",
    "                'function': 'A named set of instructions that defines a set of actions in Python.',\n",
    "                }\n",
    "\n",
    "# Print each meaning, one at a time, and ask the user\n",
    "#  what word they think it is.\n",
    "for meaning in python_words.values():\n",
    "    print(\"\\nMeaning: %s\" % meaning)\n",
    "    \n",
    "    # Assume the guess is not correct; keep guessing until correct.\n",
    "    correct = False\n",
    "    while not correct:\n",
    "        guessed_word = input(\"\\nWhat word do you think this is? \")\n",
    "    \n",
    "        # The guess is correct if the guessed word's meaning matches the current meaning.\n",
    "        if python_words[guessed_word] == meaning:\n",
    "            print(\"You got it!\")\n",
    "            correct = True\n",
    "        else:\n",
    "            print(\"Sorry, that's just not the right word.\")"
   ]
  },
  {
   "cell_type": "markdown",
   "metadata": {
    "lang": "es"
   },
   "source": [
    "Este es mejor. Ahora, si la suposición es incorrecta, el usuario se ve atrapado en un bucle al que solo puede salir al adivinar correctamente. La revisión final de este código es mostrar al usuario una lista de palabras para elegir cuando se les pide que adivinen:"
   ]
  },
  {
   "cell_type": "code",
   "execution_count": 49,
   "metadata": {},
   "outputs": [],
   "source": [
    "i = 1"
   ]
  },
  {
   "cell_type": "code",
   "execution_count": 50,
   "metadata": {},
   "outputs": [
    {
     "data": {
      "text/plain": [
       "1"
      ]
     },
     "execution_count": 50,
     "metadata": {},
     "output_type": "execute_result"
    }
   ],
   "source": [
    "i"
   ]
  },
  {
   "cell_type": "code",
   "execution_count": 51,
   "metadata": {},
   "outputs": [],
   "source": [
    "i+=1 # i = i + 1"
   ]
  },
  {
   "cell_type": "code",
   "execution_count": 52,
   "metadata": {},
   "outputs": [
    {
     "data": {
      "text/plain": [
       "2"
      ]
     },
     "execution_count": 52,
     "metadata": {},
     "output_type": "execute_result"
    }
   ],
   "source": [
    "i"
   ]
  },
  {
   "cell_type": "code",
   "execution_count": 53,
   "metadata": {},
   "outputs": [
    {
     "name": "stdout",
     "output_type": "stream",
     "text": [
      "list  dictionary  function  \n"
     ]
    }
   ],
   "source": [
    "def show_words(python_words):\n",
    "    # A simple function to show the words in the dictionary.\n",
    "    display_message = \"\"\n",
    "    for word in python_words.keys():\n",
    "        display_message += word + '  '\n",
    "    print(display_message)\n",
    "    \n",
    "python_words = {'list': 'A collection of values that are not connected, but have an order.',\n",
    "                'dictionary': 'A collection of key-value pairs.',\n",
    "                'function': 'A named set of instructions that defines a set of actions in Python.',\n",
    "                }\n",
    "\n",
    "show_words(python_words)"
   ]
  },
  {
   "cell_type": "code",
   "execution_count": 54,
   "metadata": {},
   "outputs": [
    {
     "name": "stdout",
     "output_type": "stream",
     "text": [
      "\n",
      "A collection of values that are not connected, but have an order.\n",
      "\n",
      "What word do you think this is?\n",
      "list  dictionary  function  \n",
      "- list\n",
      "You got it!\n",
      "\n",
      "A collection of key-value pairs.\n",
      "\n",
      "What word do you think this is?\n",
      "list  dictionary  function  \n",
      "- dictionary\n",
      "You got it!\n",
      "\n",
      "A named set of instructions that defines a set of actions in Python.\n",
      "\n",
      "What word do you think this is?\n",
      "list  dictionary  function  \n",
      "- tuple\n"
     ]
    },
    {
     "ename": "KeyError",
     "evalue": "'tuple'",
     "output_type": "error",
     "traceback": [
      "\u001b[0;31m---------------------------------------------------------------------------\u001b[0m",
      "\u001b[0;31mKeyError\u001b[0m                                  Traceback (most recent call last)",
      "\u001b[0;32m<ipython-input-54-24c9da2d40d5>\u001b[0m in \u001b[0;36m<module>\u001b[0;34m\u001b[0m\n\u001b[1;32m     26\u001b[0m \u001b[0;34m\u001b[0m\u001b[0m\n\u001b[1;32m     27\u001b[0m         \u001b[0;31m# The guess is correct if the guessed word's meaning matches the current meaning.\u001b[0m\u001b[0;34m\u001b[0m\u001b[0;34m\u001b[0m\u001b[0m\n\u001b[0;32m---> 28\u001b[0;31m         \u001b[0;32mif\u001b[0m \u001b[0mpython_words\u001b[0m\u001b[0;34m[\u001b[0m\u001b[0mguessed_word\u001b[0m\u001b[0;34m]\u001b[0m \u001b[0;34m==\u001b[0m \u001b[0mmeaning\u001b[0m\u001b[0;34m:\u001b[0m\u001b[0;34m\u001b[0m\u001b[0m\n\u001b[0m\u001b[1;32m     29\u001b[0m             \u001b[0mprint\u001b[0m\u001b[0;34m(\u001b[0m\u001b[0;34m\"You got it!\"\u001b[0m\u001b[0;34m)\u001b[0m\u001b[0;34m\u001b[0m\u001b[0m\n\u001b[1;32m     30\u001b[0m             \u001b[0mcorrect\u001b[0m \u001b[0;34m=\u001b[0m \u001b[0;32mTrue\u001b[0m\u001b[0;34m\u001b[0m\u001b[0m\n",
      "\u001b[0;31mKeyError\u001b[0m: 'tuple'"
     ]
    }
   ],
   "source": [
    "###highlight=[7,8,9,10,11,12,23,24,25]\n",
    "python_words = {'list': 'A collection of values that are not connected, but have an order.',\n",
    "                'dictionary': 'A collection of key-value pairs.',\n",
    "                'function': 'A named set of instructions that defines a set of actions in Python.',\n",
    "                }\n",
    "\n",
    "def show_words(python_words):\n",
    "    # A simple function to show the words in the dictionary.\n",
    "    display_message = \"\"\n",
    "    for word in python_words.keys():\n",
    "        display_message += word + '  '\n",
    "    print(display_message)\n",
    "\n",
    "# Print each meaning, one at a time, and ask the user\n",
    "#  what word they think it is.\n",
    "for meaning in python_words.values():\n",
    "    print(\"\\n%s\" % meaning)\n",
    "\n",
    "    # Assume the guess is not correct; keep guessing until correct.\n",
    "    correct = False\n",
    "    while not correct:\n",
    "        \n",
    "        print(\"\\nWhat word do you think this is?\")\n",
    "        show_words(python_words)\n",
    "        guessed_word = input(\"- \")    \n",
    "        \n",
    "        # The guess is correct if the guessed word's meaning matches the current meaning.\n",
    "        if python_words[guessed_word] == meaning:\n",
    "            print(\"You got it!\")\n",
    "            correct = True\n",
    "        else:\n",
    "            print(\"Sorry, that's just not the right word.\")"
   ]
  },
  {
   "cell_type": "markdown",
   "metadata": {},
   "source": [
    "## Crear un diccionario con definiciones de palabras, pedir al usuario que adivine cual es, si lo hace bien imprimir: \"Buen Trabajo\", de lo contrario imprimir \"No conozco esa palabra\""
   ]
  },
  {
   "cell_type": "code",
   "execution_count": 56,
   "metadata": {},
   "outputs": [
    {
     "name": "stdout",
     "output_type": "stream",
     "text": [
      "\n",
      "Meaning: Objeto para sentarse\n",
      "¿Qué crees que es? silla\n",
      "¡Buen Trabajo!\n",
      "\n",
      "Meaning: Objeto comúnmente de madera para entrar o salir\n",
      "¿Qué crees que es? puerta\n",
      "¡Buen Trabajo!\n"
     ]
    }
   ],
   "source": [
    "python_words = {'silla': 'Objeto para sentarse',\n",
    "                'puerta': 'Objeto comúnmente de madera para entrar o salir',\n",
    "                }\n",
    "\n",
    "# Print each meaning, one at a time, and ask the user\n",
    "#  what word they think it is.\n",
    "for meaning in python_words.values():\n",
    "    print(\"\\nMeaning: %s\" % meaning)\n",
    "    \n",
    "    guessed_word = input(\"¿Qué crees que es? \")\n",
    "    \n",
    "    # The guess is correct if the guessed word's meaning matches the current meaning.\n",
    "    if python_words[guessed_word] == meaning:\n",
    "        print(\"¡Buen Trabajo!\")\n",
    "    else:\n",
    "        print(\"No conozco esa palabra\")"
   ]
  },
  {
   "cell_type": "markdown",
   "metadata": {},
   "source": [
    "## Crear una función que reciba como argumentos una palabra y un diccionario y que me imprima si la palabra existe o no en el diccionario"
   ]
  },
  {
   "cell_type": "code",
   "execution_count": 57,
   "metadata": {},
   "outputs": [],
   "source": [
    "def find_word(word, dictionary):\n",
    "    if word in dictionary.keys():\n",
    "        print(\"The word {} exists in the dictionary\".format(word))\n",
    "    else:\n",
    "        print(\"{} not in the dictionary\".format(word))"
   ]
  },
  {
   "cell_type": "code",
   "execution_count": 64,
   "metadata": {},
   "outputs": [],
   "source": [
    "def find_word(word, value, dictionary):\n",
    "    if word in dictionary.keys() and value in dictionary.values():\n",
    "        print(\"The word {} exists in the dictionary and value {}\".format(word,value))"
   ]
  },
  {
   "cell_type": "code",
   "execution_count": 65,
   "metadata": {},
   "outputs": [
    {
     "name": "stdout",
     "output_type": "stream",
     "text": [
      "The word hola exists in the dictionary and value saludo\n"
     ]
    }
   ],
   "source": [
    "find_word(\"hola\", \"saludo\", prueba)"
   ]
  },
  {
   "cell_type": "code",
   "execution_count": 58,
   "metadata": {},
   "outputs": [],
   "source": [
    "prueba = {\"hola\":\"saludo\",\n",
    "          \"chao\": \"despedida\"}"
   ]
  },
  {
   "cell_type": "code",
   "execution_count": 59,
   "metadata": {},
   "outputs": [
    {
     "name": "stdout",
     "output_type": "stream",
     "text": [
      "The word hola exists in the dictionary\n"
     ]
    }
   ],
   "source": [
    "find_word(\"hola\", prueba)"
   ]
  },
  {
   "cell_type": "code",
   "execution_count": 60,
   "metadata": {},
   "outputs": [
    {
     "name": "stdout",
     "output_type": "stream",
     "text": [
      "perro not in the dictionary\n"
     ]
    }
   ],
   "source": [
    "find_word(\"perro\", prueba)"
   ]
  },
  {
   "cell_type": "markdown",
   "metadata": {
    "lang": "es"
   },
   "source": [
    "Anidamiento\n",
    "===\n",
    "Anidar es uno de los conceptos más poderosos a los que hemos llegado hasta ahora. Anidar implica colocar una lista o diccionario dentro de otra lista o diccionario. Aquí veremos dos ejemplos, listas dentro de un diccionario y diccionarios dentro de un diccionario. Con el anidamiento, el tipo de información que podemos modelar en nuestros programas se amplía enormemente."
   ]
  },
  {
   "cell_type": "markdown",
   "metadata": {
    "lang": "es"
   },
   "source": [
    "Listas en un diccionario\n",
    "---\n",
    "Un diccionario conecta dos piezas de información. Esos dos elementos de información pueden ser cualquier tipo de estructura de datos en Python. Sigamos usando cadenas para nuestras claves, pero intentemos dar una lista como valor.\n",
    "\n",
    "El primer ejemplo incluirá almacenar los números favoritos de varias personas. Las claves están formadas por nombres de personas y los valores son listas de los números favoritos de cada persona. En este primer ejemplo, accederemos a la lista de cada persona de una en una."
   ]
  },
  {
   "cell_type": "code",
   "execution_count": 66,
   "metadata": {},
   "outputs": [],
   "source": [
    "# This program stores people's favorite numbers, and displays them.\n",
    "favorite_numbers = {'eric': {\"hola\":[1,2,3,4]},\n",
    "                    'ever': [2, 4, 5],\n",
    "                    'willie': [5, 35, 120],\n",
    "                    }"
   ]
  },
  {
   "cell_type": "code",
   "execution_count": 70,
   "metadata": {},
   "outputs": [
    {
     "data": {
      "text/plain": [
       "[5, 35, 120]"
      ]
     },
     "execution_count": 70,
     "metadata": {},
     "output_type": "execute_result"
    }
   ],
   "source": [
    "favorite_numbers[\"willie\"]"
   ]
  },
  {
   "cell_type": "code",
   "execution_count": null,
   "metadata": {},
   "outputs": [],
   "source": []
  },
  {
   "cell_type": "code",
   "execution_count": null,
   "metadata": {},
   "outputs": [],
   "source": []
  },
  {
   "cell_type": "code",
   "execution_count": 71,
   "metadata": {},
   "outputs": [
    {
     "name": "stdout",
     "output_type": "stream",
     "text": [
      "Eric's favorite numbers are:\n",
      "{'hola': [1, 2, 3, 4]}\n",
      "\n",
      "Ever's favorite numbers are:\n",
      "[2, 4, 5]\n",
      "\n",
      "Willie's favorite numbers are:\n",
      "[5, 35, 120]\n"
     ]
    }
   ],
   "source": [
    "# This program stores people's favorite numbers, and displays them.\n",
    "favorite_numbers = {'eric': {\"hola\":[1,2,3,4]},\n",
    "                    'ever': [2, 4, 5],\n",
    "                    'willie': [5, 35, 120],\n",
    "                    }\n",
    "\n",
    "# Display each person's favorite numbers.\n",
    "print(\"Eric's favorite numbers are:\")\n",
    "print(favorite_numbers['eric'])\n",
    "\n",
    "print(\"\\nEver's favorite numbers are:\")\n",
    "print(favorite_numbers['ever'])\n",
    "\n",
    "print(\"\\nWillie's favorite numbers are:\")\n",
    "print(favorite_numbers['willie'])"
   ]
  },
  {
   "cell_type": "code",
   "execution_count": 73,
   "metadata": {},
   "outputs": [
    {
     "name": "stdout",
     "output_type": "stream",
     "text": [
      "[1, 2, 3, 4]\n"
     ]
    }
   ],
   "source": [
    "print(favorite_numbers['eric'][\"hola\"])"
   ]
  },
  {
   "cell_type": "code",
   "execution_count": 74,
   "metadata": {},
   "outputs": [
    {
     "name": "stdout",
     "output_type": "stream",
     "text": [
      "Eric's favorite numbers are:\n",
      "[1, 2, 3, 4]\n",
      "\n",
      "Ever's favorite numbers are:\n",
      "[2, 4, 5]\n",
      "\n",
      "Willie's favorite numbers are:\n",
      "[5, 35, 120]\n"
     ]
    }
   ],
   "source": [
    "# This program stores people's favorite numbers, and displays them.\n",
    "favorite_numbers = {'eric': {\"hola\":[1,2,3,4]},\n",
    "                    'ever': [2, 4, 5],\n",
    "                    'willie': [5, 35, 120],\n",
    "                    }\n",
    "\n",
    "# Display each person's favorite numbers.\n",
    "print(\"Eric's favorite numbers are:\")\n",
    "print(favorite_numbers['eric'][\"hola\"])\n",
    "\n",
    "print(\"\\nEver's favorite numbers are:\")\n",
    "print(favorite_numbers['ever'])\n",
    "\n",
    "print(\"\\nWillie's favorite numbers are:\")\n",
    "print(favorite_numbers['willie'])"
   ]
  },
  {
   "cell_type": "markdown",
   "metadata": {
    "lang": "es"
   },
   "source": [
    "Realmente estamos trabajando en cada clave del diccionario, así que usemos un bucle for para revisar las claves del diccionario:"
   ]
  },
  {
   "cell_type": "code",
   "execution_count": 75,
   "metadata": {},
   "outputs": [
    {
     "name": "stdout",
     "output_type": "stream",
     "text": [
      "\n",
      "Eric's favorite numbers are:\n",
      "[3, 11, 19, 23, 42]\n",
      "\n",
      "Ever's favorite numbers are:\n",
      "[2, 4, 5]\n",
      "\n",
      "Willie's favorite numbers are:\n",
      "[5, 35, 120]\n"
     ]
    }
   ],
   "source": [
    "###highlight=[8,9,10,11]\n",
    "# This program stores people's favorite numbers, and displays them.\n",
    "favorite_numbers = {'eric': [3, 11, 19, 23, 42],\n",
    "                    'ever': [2, 4, 5],\n",
    "                    'willie': [5, 35, 120],\n",
    "                    }\n",
    "\n",
    "# Display each person's favorite numbers.\n",
    "for name in favorite_numbers:\n",
    "    print(\"\\n%s's favorite numbers are:\" % name.title())\n",
    "    print(favorite_numbers[name])      "
   ]
  },
  {
   "cell_type": "markdown",
   "metadata": {
    "lang": "es"
   },
   "source": [
    "Esta estructura es bastante compleja, así que no te preocupes si las cosas tardan un poco en asimilarse. El diccionario en sí probablemente tenga sentido; Cada persona está conectada a una lista de sus números favoritos.\n",
    "\n",
    "Esto funciona, pero preferimos no imprimir Python en bruto en nuestra salida. Usemos un bucle for para imprimir los números favoritos individualmente, en lugar de en una lista de Python."
   ]
  },
  {
   "cell_type": "code",
   "execution_count": 77,
   "metadata": {},
   "outputs": [
    {
     "name": "stdout",
     "output_type": "stream",
     "text": [
      "\n",
      "Eric's favorite numbers are:\n",
      "3\n",
      "11\n",
      "19\n",
      "23\n",
      "42\n",
      "\n",
      "Ever's favorite numbers are:\n",
      "2\n",
      "4\n",
      "5\n",
      "\n",
      "Willie's favorite numbers are:\n",
      "5\n",
      "35\n",
      "120\n"
     ]
    }
   ],
   "source": [
    "###highlight=[11,12,13,14]\n",
    "# This program stores people's favorite numbers, and displays them.\n",
    "favorite_numbers = {'eric': [3, 11, 19, 23, 42],\n",
    "                    'ever': [2, 4, 5],\n",
    "                    'willie': [5, 35, 120],\n",
    "                    }\n",
    "\n",
    "# Display each person's favorite numbers.\n",
    "for name in favorite_numbers: #favoite_number.keys():\n",
    "    print(\"\\n%s's favorite numbers are:\" % name.title())\n",
    "    # Each value is itself a list, so we need another for loop\n",
    "    #  to work with the list.\n",
    "    for favorite_number in favorite_numbers[name]:\n",
    "        print(favorite_number)        "
   ]
  },
  {
   "cell_type": "markdown",
   "metadata": {
    "lang": "en"
   },
   "source": [
    "Things get a little more complicated inside the for loop. The value is a list of favorite numbers, so the for loop pulls each *favorite\\_number* out of the list one at a time. If it makes more sense to you, you are free to store the list in a new variable, and use that to define your for loop:\n"
   ]
  },
  {
   "cell_type": "markdown",
   "metadata": {
    "lang": "es"
   },
   "source": [
    "Las cosas se complican un poco más dentro del bucle for. El valor es una lista de números favoritos, por lo que el bucle for saca cada *favorite_number* de la lista uno a la vez. Si tiene más sentido para ti, puedes almacenar la lista en una nueva variable y usarla para definir su bucle for:"
   ]
  },
  {
   "cell_type": "code",
   "execution_count": 78,
   "metadata": {},
   "outputs": [
    {
     "name": "stdout",
     "output_type": "stream",
     "text": [
      "\n",
      "Eric's favorite numbers are:\n",
      "3\n",
      "11\n",
      "19\n",
      "23\n",
      "42\n",
      "\n",
      "Ever's favorite numbers are:\n",
      "2\n",
      "4\n",
      "5\n",
      "\n",
      "Willie's favorite numbers are:\n",
      "5\n",
      "35\n",
      "120\n"
     ]
    }
   ],
   "source": [
    "###highlight=[12,13,14,15]\n",
    "# This program stores people's favorite numbers, and displays them.\n",
    "favorite_numbers = {'eric': [3, 11, 19, 23, 42],\n",
    "                    'ever': [2, 4, 5],\n",
    "                    'willie': [5, 35, 120],\n",
    "                    }\n",
    "\n",
    "# Display each person's favorite numbers.\n",
    "for name in favorite_numbers:\n",
    "    print(\"\\n%s's favorite numbers are:\" % name.title())\n",
    "    \n",
    "    # Each value is itself a list, so let's put that list in a variable.\n",
    "    current_favorite_numbers = favorite_numbers[name]\n",
    "    for favorite_number in current_favorite_numbers:\n",
    "        print(favorite_number)        "
   ]
  },
  {
   "cell_type": "markdown",
   "metadata": {},
   "source": [
    "## Ejercicio \n",
    "\n",
    "### Crear un diccionario que en los valores contenga listas numéricas y vamos a imprimir el valor de cada número al cuadraro"
   ]
  },
  {
   "cell_type": "code",
   "execution_count": 79,
   "metadata": {},
   "outputs": [
    {
     "name": "stdout",
     "output_type": "stream",
     "text": [
      "Favio's favorite numbers squared are'\n",
      "1\n",
      "4\n",
      "9\n",
      "16\n",
      "Felipe's favorite numbers squared are'\n",
      "4\n",
      "16\n",
      "25\n",
      "Maria's favorite numbers squared are'\n",
      "25\n",
      "1225\n",
      "14400\n"
     ]
    }
   ],
   "source": [
    "numbers = {\"favio\": [1,2,3,4],\n",
    "           \"felipe\": [2,4,5],\n",
    "           \"maria\": [5, 35, 120]}\n",
    "\n",
    "for name in numbers.keys():\n",
    "    print(\"{}'s favorite numbers squared are'\".format(name.title()))\n",
    "    for number in numbers[name]:\n",
    "        print(number**2)"
   ]
  },
  {
   "cell_type": "markdown",
   "metadata": {
    "lang": "es"
   },
   "source": [
    "Diccionarios en un diccionario\n",
    "---\n",
    "El concepto de anidamiento más poderoso que cubriremos ahora es anidar un diccionario dentro de un diccionario.\n",
    "\n",
    "Para demostrar esto, hagamos un diccionario de mascotas, con alguna información sobre cada mascota. Las claves de este diccionario consistirán en el nombre de la mascota. Los valores incluirán información como el tipo de animal, el propietario y si la mascota ha sido vacunada."
   ]
  },
  {
   "cell_type": "code",
   "execution_count": 80,
   "metadata": {},
   "outputs": [
    {
     "name": "stdout",
     "output_type": "stream",
     "text": [
      "Here is what I know about Willie:\n",
      "kind: dog\n",
      "owner: eric\n",
      "vaccinated: True\n",
      "\n",
      "Here is what I know about Walter:\n",
      "kind: cockroach\n",
      "owner: eric\n",
      "vaccinated: False\n",
      "\n",
      "Here is what I know about Peso:\n",
      "kind: dog\n",
      "owner: chloe\n",
      "vaccinated: True\n"
     ]
    }
   ],
   "source": [
    "# This program stores information about pets. For each pet,\n",
    "#   we store the kind of animal, the owner's name, and\n",
    "#   the breed.\n",
    "pets = {'willie': {'kind': 'dog', 'owner': 'eric', 'vaccinated': True},\n",
    "        'walter': {'kind': 'cockroach', 'owner': 'eric', 'vaccinated': False},\n",
    "        'peso': {'kind': 'dog', 'owner': 'chloe', 'vaccinated': True},\n",
    "        }\n",
    "\n",
    "# Let's show all the information for each pet.\n",
    "print(\"Here is what I know about Willie:\")\n",
    "print(\"kind: \" + pets['willie']['kind'])\n",
    "print(\"owner: \" + pets['willie']['owner'])\n",
    "print(\"vaccinated: \" + str(pets['willie']['vaccinated']))\n",
    "\n",
    "print(\"\\nHere is what I know about Walter:\")\n",
    "print(\"kind: \" + pets['walter']['kind'])\n",
    "print(\"owner: \" + pets['walter']['owner'])\n",
    "print(\"vaccinated: \" + str(pets['walter']['vaccinated']))\n",
    "\n",
    "print(\"\\nHere is what I know about Peso:\")\n",
    "print(\"kind: \" + pets['peso']['kind'])\n",
    "print(\"owner: \" + pets['peso']['owner'])\n",
    "print(\"vaccinated: \" + str(pets['peso']['vaccinated']))"
   ]
  },
  {
   "cell_type": "markdown",
   "metadata": {
    "lang": "en"
   },
   "source": [
    "Clearly this is some repetitive code, but it shows exactly how we access information in a nested dictionary. In the first set of `print` statements, we use the name 'willie' to unlock the 'kind' of animal he is, the 'owner' he has, and whether or not he is 'vaccinated'. We have to wrap the vaccination value in the `str` function so that Python knows we want the words 'True' and 'False', not the values `True` and `False`. We then do the same thing for each animal.\n",
    "\n",
    "Let's rewrite this program, using a for loop to go through the dictionary's keys:"
   ]
  },
  {
   "cell_type": "markdown",
   "metadata": {
    "lang": "es"
   },
   "source": [
    "Claramente, este es un código repetitivo, pero muestra exactamente cómo accedemos a la información en un diccionario anidado. En el primer conjunto de declaraciones \"impresas\", usamos el nombre \"willie\" para desbloquear el \"tipo\" de animal que es, el \"dueño\" que tiene y si está \"vacunado\" o no. Tenemos que ajustar el valor de vacunación en la función `str` para que Python sepa que queremos las palabras 'Verdadero' y 'Falso', no los valores 'Verdadero' y 'Falso'. Entonces hacemos lo mismo para cada animal.\n",
    "\n",
    "Reescribamos este programa, usando un bucle for para pasar por las claves del diccionario:"
   ]
  },
  {
   "cell_type": "code",
   "execution_count": 81,
   "metadata": {},
   "outputs": [
    {
     "name": "stdout",
     "output_type": "stream",
     "text": [
      "\n",
      "Here is what I know about Willie:\n",
      "kind: dog\n",
      "owner: eric\n",
      "vaccinated: True\n",
      "\n",
      "Here is what I know about Walter:\n",
      "kind: cockroach\n",
      "owner: eric\n",
      "vaccinated: False\n",
      "\n",
      "Here is what I know about Peso:\n",
      "kind: dog\n",
      "owner: chloe\n",
      "vaccinated: True\n"
     ]
    }
   ],
   "source": [
    "# This program stores information about pets. For each pet,\n",
    "#   we store the kind of animal, the owner's name, and\n",
    "#   the breed.\n",
    "pets = {'willie': {'kind': 'dog', 'owner': 'eric', 'vaccinated': True},\n",
    "        'walter': {'kind': 'cockroach', 'owner': 'eric', 'vaccinated': False},\n",
    "        'peso': {'kind': 'dog', 'owner': 'chloe', 'vaccinated': True},\n",
    "        }\n",
    "\n",
    "# Let's show all the information for each pet.\n",
    "for pet_name, pet_information in pets.items():\n",
    "    print(\"\\nHere is what I know about %s:\" % pet_name.title())\n",
    "    print(\"kind: \" + pet_information['kind'])\n",
    "    print(\"owner: \" + pet_information['owner'])\n",
    "    print(\"vaccinated: \" + str(pet_information['vaccinated']))"
   ]
  },
  {
   "cell_type": "markdown",
   "metadata": {
    "lang": "es"
   },
   "source": [
    "Este código es mucho más corto y fácil de mantener. Pero incluso este código no se mantendrá al día con nuestro diccionario. Si agregamos más información al diccionario más adelante, tendremos que actualizar nuestros estados de cuenta impresos. Pongamos un segundo bucle for dentro del primer bucle para ejecutar toda la información sobre cada mascota:"
   ]
  },
  {
   "cell_type": "code",
   "execution_count": 82,
   "metadata": {},
   "outputs": [
    {
     "name": "stdout",
     "output_type": "stream",
     "text": [
      "\n",
      "Here is what I know about Willie:\n",
      "kind: dog\n",
      "owner: eric\n",
      "vaccinated: True\n",
      "\n",
      "Here is what I know about Walter:\n",
      "kind: cockroach\n",
      "owner: eric\n",
      "vaccinated: False\n",
      "\n",
      "Here is what I know about Peso:\n",
      "kind: dog\n",
      "owner: chloe\n",
      "vaccinated: True\n"
     ]
    }
   ],
   "source": [
    "###highlight=[14,15]\n",
    "# This program stores information about pets. For each pet,\n",
    "#   we store the kind of animal, the owner's name, and\n",
    "#   the breed.\n",
    "pets = {'willie': {'kind': 'dog', 'owner': 'eric', 'vaccinated': True},\n",
    "        'walter': {'kind': 'cockroach', 'owner': 'eric', 'vaccinated': False},\n",
    "        'peso': {'kind': 'dog', 'owner': 'chloe', 'vaccinated': True},\n",
    "        }\n",
    "\n",
    "# Let's show all the information for each pet.\n",
    "for pet_name, pet_information in pets.items():\n",
    "    print(\"\\nHere is what I know about %s:\" % pet_name.title())\n",
    "    # Each animal's dictionary is in 'information'\n",
    "    for key in pet_information:\n",
    "        print(key + \": \" + str(pet_information[key]))"
   ]
  },
  {
   "cell_type": "markdown",
   "metadata": {
    "lang": "es"
   },
   "source": [
    "Este bucle anidado puede parecer bastante complicado, así que, una vez más, no se preocupe si no tiene sentido por un tiempo.\n",
    "\n",
    "- El primer bucle nos da todas las claves en el diccionario principal, que consisten en el nombre de cada mascota.\n",
    "- Cada uno de estos nombres se puede usar para \"desbloquear\" el diccionario de cada mascota.\n",
    "- El bucle interno recorre el diccionario para esa mascota individual y extrae todas las claves del diccionario de esa mascota individual.\n",
    "- Imprimimos la clave, que nos indica el tipo de información que estamos a punto de ver y el valor de esa clave.\n",
    "- Puedes ver que podríamos mejorar el formato en la salida.\n",
    "    - Podríamos escribir con mayúscula el nombre del propietario.\n",
    "    - Podríamos imprimir 'sí' o 'no', en lugar de Verdadero y Falso.\n",
    "    \n",
    "Vamos a mostrar una última versión que usa algunas declaraciones if para limpiar nuestros datos para imprimir:"
   ]
  },
  {
   "cell_type": "code",
   "execution_count": 83,
   "metadata": {},
   "outputs": [
    {
     "name": "stdout",
     "output_type": "stream",
     "text": [
      "\n",
      "Here is what I know about Willie:\n",
      "kind: dog\n",
      "owner: Eric\n",
      "vaccinated: yes\n",
      "\n",
      "Here is what I know about Walter:\n",
      "kind: cockroach\n",
      "owner: Eric\n",
      "vaccinated: no\n",
      "\n",
      "Here is what I know about Peso:\n",
      "kind: dog\n",
      "owner: Chloe\n",
      "vaccinated: yes\n"
     ]
    }
   ],
   "source": [
    "# This program stores information about pets. For each pet,\n",
    "#   we store the kind of animal, the owner's name, and\n",
    "#   the breed.\n",
    "pets = {'willie': {'kind': 'dog', 'owner': 'eric', 'vaccinated': True},\n",
    "        'walter': {'kind': 'cockroach', 'owner': 'eric', 'vaccinated': False},\n",
    "        'peso': {'kind': 'dog', 'owner': 'chloe', 'vaccinated': True},\n",
    "        }\n",
    "\n",
    "# Let's show all the information for each pet.\n",
    "for pet_name, pet_information in pets.items():\n",
    "    print(\"\\nHere is what I know about %s:\" % pet_name.title())\n",
    "    # Each animal's dictionary is in pet_information\n",
    "    for key in pet_information:\n",
    "        if key == 'owner':\n",
    "            # Capitalize the owner's name.\n",
    "            print(key + \": \" + pet_information[key].title())\n",
    "        elif key == 'vaccinated':\n",
    "            # Print 'yes' for True, and 'no' for False.\n",
    "            vaccinated = pet_information['vaccinated']\n",
    "            if vaccinated:\n",
    "                print('vaccinated: yes')\n",
    "            else:\n",
    "                print('vaccinated: no')\n",
    "        else:\n",
    "            # No special formatting needed for this key.\n",
    "            print(key + \": \" + pet_information[key])"
   ]
  },
  {
   "cell_type": "markdown",
   "metadata": {
    "lang": "en"
   },
   "source": [
    "This code is a lot longer, and now we have nested if statements as well as nested for loops. But keep in mind, this structure would work if there were 1000 pets in our dictionary, and it would work if we were storing 1000 pieces of information about each pet. One level of nesting lets us model an incredible array of information."
   ]
  },
  {
   "cell_type": "markdown",
   "metadata": {
    "lang": "es"
   },
   "source": [
    "Este código es mucho más largo, y ahora hemos anidado declaraciones if y anidados para bucles. Pero tenga en cuenta que esta estructura funcionaría si hubiera 1000 mascotas en nuestro diccionario, y funcionaría si almacenáramos 1000 piezas de información sobre cada mascota. Un nivel de anidamiento nos permite modelar una increíble variedad de información."
   ]
  },
  {
   "cell_type": "markdown",
   "metadata": {
    "lang": "es"
   },
   "source": [
    "Una nota importante sobre la anidación.\n",
    "---\n",
    "Si bien un nivel de anidamiento es realmente útil, el anidar mucho más profundo que eso se vuelve realmente complicado, realmente rápido. Existen otras estructuras, como clases, que pueden ser incluso más útiles para modelar información. Además de esto, podemos usar Python para almacenar información en una base de datos, que es la herramienta adecuada para almacenar información profundamente anidada.\n",
    "\n",
    "Muchas veces, cuando almacena información en una base de datos, extrae un pequeño conjunto de esa información y la coloca en un diccionario, o en una estructura ligeramente anidada, y luego trabaja con ella. Pero rara vez, si acaso, trabajará con estructuras de datos de Python anidadas con más de un nivel de profundidad."
   ]
  }
 ],
 "metadata": {
  "kernelspec": {
   "display_name": "Python 3",
   "language": "python",
   "name": "python3"
  },
  "language_info": {
   "codemirror_mode": {
    "name": "ipython",
    "version": 3
   },
   "file_extension": ".py",
   "mimetype": "text/x-python",
   "name": "python",
   "nbconvert_exporter": "python",
   "pygments_lexer": "ipython3",
   "version": "3.6.5"
  },
  "nbTranslate": {
   "displayLangs": [
    "es"
   ],
   "hotkey": "alt-t",
   "langInMainMenu": true,
   "sourceLang": "en",
   "targetLang": "es",
   "useGoogleTranslate": true
  }
 },
 "nbformat": 4,
 "nbformat_minor": 2
}
