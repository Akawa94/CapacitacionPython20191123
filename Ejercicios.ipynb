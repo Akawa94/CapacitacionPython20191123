{
 "cells": [
  {
   "cell_type": "markdown",
   "metadata": {},
   "source": [
    "# Ejercicio 1\n",
    "\n",
    "## Creen un algoritmo que le pida al usuario un número, de allí que imprima la cadena de números que hay entre ese número y 1, más la suma de todos los números de 1 a n.\n",
    "\n",
    "Usuario: 10\n",
    "\n",
    "Resultado:\n",
    "\n",
    "Ingresaste 10, \n",
    "\n",
    "1 + 2 + 3 + 4 + 5 + 6 + 7 + 8 + 9 + 10 = 55"
   ]
  },
  {
   "cell_type": "code",
   "execution_count": 11,
   "metadata": {},
   "outputs": [
    {
     "name": "stdout",
     "output_type": "stream",
     "text": [
      "Enter a number: 12\n",
      "1 + 2 + 3 + 4 + 5 + 6 + 7 + 8 + 9 + 10 + 11 + 12 = 78\n"
     ]
    }
   ],
   "source": [
    "n = int(input(\"Enter a number: \"))\n",
    "\n",
    "a = []\n",
    "for i in range(1, n+1):\n",
    "    print(i, sep=\" \", end = \" \")\n",
    "    if (i<n):\n",
    "        print(\"+\", sep=\" \", end=\" \")\n",
    "    a.append(i)\n",
    "print(\"=\",sum(a))"
   ]
  },
  {
   "cell_type": "markdown",
   "metadata": {},
   "source": [
    "# Ejercicio 2\n",
    "\n",
    "## Crear una función que te diga si un número es divisible entre 2. Donde este número lo ingresas manualmente"
   ]
  },
  {
   "cell_type": "code",
   "execution_count": 16,
   "metadata": {},
   "outputs": [
    {
     "name": "stdout",
     "output_type": "stream",
     "text": [
      "Ingresa el número: 99\n",
      "99 no es divisible entre 2\n"
     ]
    }
   ],
   "source": [
    "def divisible_entre_2(n):\n",
    "    if n % 2 == 0:\n",
    "        return True\n",
    "    \n",
    "n = int(input(\"Ingresa el número: \"))\n",
    "\n",
    "if divisible_entre_2(n):\n",
    "    print(\"{} es divisible entre 2\".format(n))\n",
    "else:\n",
    "    print(\"{} no es divisible entre 2\".format(n))"
   ]
  },
  {
   "cell_type": "markdown",
   "metadata": {},
   "source": [
    "# Ejercicio 3\n",
    "\n",
    "# Determinar el segundo más grande elemento de una lista en una función que reciba la lista"
   ]
  },
  {
   "cell_type": "code",
   "execution_count": 17,
   "metadata": {},
   "outputs": [],
   "source": [
    "def second_max(lista):\n",
    "    lista.sort()\n",
    "    return lista[-2]"
   ]
  },
  {
   "cell_type": "code",
   "execution_count": 18,
   "metadata": {},
   "outputs": [
    {
     "data": {
      "text/plain": [
       "300"
      ]
     },
     "execution_count": 18,
     "metadata": {},
     "output_type": "execute_result"
    }
   ],
   "source": [
    "second_max([1,2,50,200,2,1000,300])"
   ]
  },
  {
   "cell_type": "code",
   "execution_count": 19,
   "metadata": {},
   "outputs": [
    {
     "data": {
      "text/plain": [
       "20"
      ]
     },
     "execution_count": 19,
     "metadata": {},
     "output_type": "execute_result"
    }
   ],
   "source": [
    "second_max([10, 20, 1, 40])"
   ]
  },
  {
   "cell_type": "markdown",
   "metadata": {},
   "source": [
    "# Ejemplo - Recursión\n",
    "\n",
    "Factorial de un número => $n! = 1 * 2 * 3 * \\dots (n-2) * (n-1) * n$"
   ]
  },
  {
   "cell_type": "markdown",
   "metadata": {},
   "source": [
    "Fórmula de recursión para factorial = $n! = n*(n-1)!$"
   ]
  },
  {
   "cell_type": "markdown",
   "metadata": {},
   "source": [
    "$$\n",
    "5! = 5*4*3*2*1 = 120\n",
    "$$\n",
    "\n",
    "$$\n",
    "5! = 5*4! = 120 \n",
    "$$"
   ]
  },
  {
   "cell_type": "code",
   "execution_count": 20,
   "metadata": {},
   "outputs": [],
   "source": [
    "def factorial(n):\n",
    "    if(n <= 1):\n",
    "        return 1\n",
    "    else: \n",
    "        return n*factorial(n-1)"
   ]
  },
  {
   "cell_type": "code",
   "execution_count": 25,
   "metadata": {},
   "outputs": [
    {
     "data": {
      "text/plain": [
       "24"
      ]
     },
     "execution_count": 25,
     "metadata": {},
     "output_type": "execute_result"
    }
   ],
   "source": [
    "factorial(4)"
   ]
  },
  {
   "cell_type": "markdown",
   "metadata": {},
   "source": [
    "## Ejercicio 4\n",
    "\n",
    "### Crear una función (recursiva) que devuelva la cantidad de números en la serie de Fibonacci mediante el argumento que ingresó el usuario.\n",
    "\n",
    "$$\n",
    "F = 0, 1, 1, 2, 3, 5, 8, 13, 21, 34, 55, ...\n",
    "$$\n",
    "\n",
    "$$\n",
    "F_0 = 0, \n",
    "F_1 = 1\n",
    "$$\n",
    "\n",
    "$$\n",
    "F_n = F_{n-1} + F_{n-2}\n",
    "$$"
   ]
  },
  {
   "cell_type": "markdown",
   "metadata": {},
   "source": [
    "fibonacci(12) -> 0, 1, 1, 2, 3, 5, 8, 13, 21, 34, 55, 89"
   ]
  },
  {
   "cell_type": "code",
   "execution_count": 35,
   "metadata": {},
   "outputs": [
    {
     "name": "stdout",
     "output_type": "stream",
     "text": [
      "Número ingresado: 12\n",
      "0\n",
      "1\n",
      "1\n",
      "2\n",
      "3\n",
      "5\n",
      "8\n",
      "13\n",
      "21\n",
      "34\n",
      "55\n",
      "89\n"
     ]
    }
   ],
   "source": [
    "def fibonacci(n):\n",
    "    if (n <= 1):\n",
    "        return n\n",
    "    else:\n",
    "        return (fibonacci(n-1) + fibonacci(n-2))\n",
    "    \n",
    "n = int(input(\"Número ingresado: \"))\n",
    "for i in range(n):\n",
    "    print(fibonacci(i))"
   ]
  },
  {
   "cell_type": "code",
   "execution_count": 29,
   "metadata": {},
   "outputs": [
    {
     "data": {
      "text/plain": [
       "144"
      ]
     },
     "execution_count": 29,
     "metadata": {},
     "output_type": "execute_result"
    }
   ],
   "source": [
    "fibonacci(12)"
   ]
  },
  {
   "cell_type": "markdown",
   "metadata": {},
   "source": [
    "# Ejercicio 5\n",
    "\n",
    "## Recibir en unaa función una lista anidada (una lista adentro de otra lista), e imprimir los valores de la lista como si no estuviera anidada\n",
    "\n",
    "```\n",
    "s = [[1,2], [3,4]]\n",
    "flatten(s) -> [1,2,3,4]\n",
    "```"
   ]
  },
  {
   "cell_type": "markdown",
   "metadata": {},
   "source": [
    "Hint: Usar recursión"
   ]
  },
  {
   "cell_type": "code",
   "execution_count": 42,
   "metadata": {},
   "outputs": [
    {
     "data": {
      "text/plain": [
       "True"
      ]
     },
     "execution_count": 42,
     "metadata": {},
     "output_type": "execute_result"
    }
   ],
   "source": [
    "isinstance(\"hola\", str) # -> úsenlo en la función de arriba "
   ]
  },
  {
   "cell_type": "code",
   "execution_count": 50,
   "metadata": {},
   "outputs": [],
   "source": [
    "def flatten(s):\n",
    "    if s == []:\n",
    "        return s\n",
    "    if isinstance(s[0], list):\n",
    "        return flatten(s[0]) + flatten(s[1:])\n",
    "    return s[:1] + flatten(s[1:])"
   ]
  },
  {
   "cell_type": "code",
   "execution_count": 53,
   "metadata": {},
   "outputs": [
    {
     "data": {
      "text/plain": [
       "[1, 2, 3, 4, 5, 6]"
      ]
     },
     "execution_count": 53,
     "metadata": {},
     "output_type": "execute_result"
    }
   ],
   "source": [
    "flatten([[1,2],[3,4], [5,6]]) # -> flatMap"
   ]
  }
 ],
 "metadata": {
  "kernelspec": {
   "display_name": "Python 3",
   "language": "python",
   "name": "python3"
  },
  "language_info": {
   "codemirror_mode": {
    "name": "ipython",
    "version": 3
   },
   "file_extension": ".py",
   "mimetype": "text/x-python",
   "name": "python",
   "nbconvert_exporter": "python",
   "pygments_lexer": "ipython3",
   "version": "3.6.5"
  },
  "nbTranslate": {
   "displayLangs": [
    "*"
   ],
   "hotkey": "alt-t",
   "langInMainMenu": true,
   "sourceLang": "en",
   "targetLang": "fr",
   "useGoogleTranslate": true
  }
 },
 "nbformat": 4,
 "nbformat_minor": 2
}
